{
 "cells": [
  {
   "cell_type": "markdown",
   "metadata": {},
   "source": [
    "Using the notebook\n",
    "===================\n",
    "\n",
    "- Familiarize yourself with the interface\n",
    "- Help -> Interface tour (do this later)\n",
    "- UI is modal\n",
    "\n",
    "    - Esc puts you in command mode\n",
    "    - Enter puts you in edit mode\n",
    "\n",
    "- Write stuff in cells\n",
    "- Cells are of different types\n",
    "\n",
    "    - Markdown\n",
    "    - Code\n",
    "  \n",
    "- Learn the basic keyboard shortcuts\n",
    "\n",
    "    - Shift-Return to evaluate a cell\n",
    "    - Tab completion\n",
    "    - Shift-tab: tooltip help"
   ]
  },
  {
   "cell_type": "code",
   "execution_count": 8,
   "metadata": {
    "collapsed": false
   },
   "outputs": [
    {
     "name": "stdout",
     "output_type": "stream",
     "text": [
      "hello\n",
      "world\n",
      "asdasd\n"
     ]
    }
   ],
   "source": [
    "print(\"hello\")\n",
    "print(\"world\")\n",
    "print(\"asdasd\")"
   ]
  },
  {
   "cell_type": "markdown",
   "metadata": {},
   "source": [
    "Expressions\n",
    "============\n",
    "\n",
    "- Using Python as a calculator"
   ]
  },
  {
   "cell_type": "code",
   "execution_count": null,
   "metadata": {
    "collapsed": false
   },
   "outputs": [],
   "source": [
    "2*3"
   ]
  },
  {
   "cell_type": "code",
   "execution_count": null,
   "metadata": {
    "collapsed": false
   },
   "outputs": [],
   "source": [
    "print(\"hello\")"
   ]
  },
  {
   "cell_type": "code",
   "execution_count": null,
   "metadata": {
    "collapsed": false
   },
   "outputs": [],
   "source": [
    "a = 1\n",
    "b = 2\n",
    "c = a+b\n",
    "c"
   ]
  },
  {
   "cell_type": "markdown",
   "metadata": {},
   "source": [
    "Function calls\n",
    "===============\n",
    "\n",
    "- Call expressions\n",
    "- Hang on -- we will define our own later!\n"
   ]
  },
  {
   "cell_type": "code",
   "execution_count": null,
   "metadata": {
    "collapsed": false
   },
   "outputs": [],
   "source": [
    "abs(-1.01235)"
   ]
  },
  {
   "cell_type": "code",
   "execution_count": null,
   "metadata": {
    "collapsed": false
   },
   "outputs": [],
   "source": [
    "round(5.12)"
   ]
  },
  {
   "cell_type": "code",
   "execution_count": null,
   "metadata": {
    "collapsed": false
   },
   "outputs": [],
   "source": [
    "round(5.12, 1)"
   ]
  },
  {
   "cell_type": "code",
   "execution_count": null,
   "metadata": {
    "collapsed": false
   },
   "outputs": [],
   "source": [
    "max(1, 2, b)"
   ]
  },
  {
   "cell_type": "code",
   "execution_count": null,
   "metadata": {
    "collapsed": false
   },
   "outputs": [],
   "source": [
    "max(a, b, c)"
   ]
  },
  {
   "cell_type": "code",
   "execution_count": null,
   "metadata": {
    "collapsed": false
   },
   "outputs": [],
   "source": [
    "min(a, b, c)"
   ]
  },
  {
   "cell_type": "markdown",
   "metadata": {},
   "source": [
    "Importing the math library\n",
    "===========================\n",
    "\n",
    "- Use the ``import`` keyword\n",
    "\n",
    "- Explore help"
   ]
  },
  {
   "cell_type": "code",
   "execution_count": null,
   "metadata": {
    "collapsed": false
   },
   "outputs": [],
   "source": [
    "import math\n",
    "math.sqrt(2.0)"
   ]
  },
  {
   "cell_type": "code",
   "execution_count": null,
   "metadata": {
    "collapsed": false
   },
   "outputs": [],
   "source": [
    "math.pi"
   ]
  },
  {
   "cell_type": "markdown",
   "metadata": {},
   "source": [
    "Types\n",
    "======\n",
    "\n",
    "- Use the ``type`` builtin"
   ]
  },
  {
   "cell_type": "code",
   "execution_count": null,
   "metadata": {
    "collapsed": false
   },
   "outputs": [],
   "source": [
    "type(1.0)"
   ]
  },
  {
   "cell_type": "code",
   "execution_count": null,
   "metadata": {
    "collapsed": false
   },
   "outputs": [],
   "source": [
    "type(1)"
   ]
  },
  {
   "cell_type": "code",
   "execution_count": null,
   "metadata": {
    "collapsed": false
   },
   "outputs": [],
   "source": [
    "type('asdas')"
   ]
  },
  {
   "cell_type": "code",
   "execution_count": null,
   "metadata": {
    "collapsed": false
   },
   "outputs": [],
   "source": [
    "a = 2"
   ]
  },
  {
   "cell_type": "code",
   "execution_count": 14,
   "metadata": {
    "collapsed": false
   },
   "outputs": [
    {
     "data": {
      "text/plain": [
       "2"
      ]
     },
     "execution_count": 14,
     "metadata": {},
     "output_type": "execute_result"
    }
   ],
   "source": [
    "a.count('h') + a.count ('e')"
   ]
  },
  {
   "cell_type": "code",
   "execution_count": 9,
   "metadata": {
    "collapsed": false
   },
   "outputs": [
    {
     "name": "stdout",
     "output_type": "stream",
     "text": [
      "b\n"
     ]
    }
   ],
   "source": [
    "print (\"b\")"
   ]
  },
  {
   "cell_type": "markdown",
   "metadata": {},
   "source": [
    "- Already seen floats, ints\n",
    "- Only a bit of strings"
   ]
  },
  {
   "cell_type": "markdown",
   "metadata": {},
   "source": [
    "Strings\n",
    "========\n",
    "\n",
    "- `\"hello world\"` was a string.\n"
   ]
  },
  {
   "cell_type": "code",
   "execution_count": 1,
   "metadata": {
    "collapsed": false
   },
   "outputs": [
    {
     "data": {
      "text/plain": [
       "'helloworld'"
      ]
     },
     "execution_count": 1,
     "metadata": {},
     "output_type": "execute_result"
    }
   ],
   "source": [
    "a = \"hello\"\n",
    "b = \"world\"\n",
    "a + b"
   ]
  },
  {
   "cell_type": "code",
   "execution_count": 50,
   "metadata": {
    "collapsed": false
   },
   "outputs": [
    {
     "data": {
      "text/plain": [
       "'hellohello'"
      ]
     },
     "execution_count": 50,
     "metadata": {},
     "output_type": "execute_result"
    }
   ],
   "source": [
    "a*2"
   ]
  },
  {
   "cell_type": "code",
   "execution_count": null,
   "metadata": {
    "collapsed": false
   },
   "outputs": [],
   "source": [
    "a*2.1"
   ]
  },
  {
   "cell_type": "code",
   "execution_count": null,
   "metadata": {
    "collapsed": false
   },
   "outputs": [],
   "source": [
    "a/2"
   ]
  },
  {
   "cell_type": "code",
   "execution_count": null,
   "metadata": {
    "collapsed": false
   },
   "outputs": [],
   "source": [
    "a = 'this also works'"
   ]
  },
  {
   "cell_type": "code",
   "execution_count": null,
   "metadata": {
    "collapsed": false
   },
   "outputs": [],
   "source": [
    "a = \"The Queen's son was angry\"  # note the apostrophe!"
   ]
  },
  {
   "cell_type": "code",
   "execution_count": null,
   "metadata": {
    "collapsed": false
   },
   "outputs": [],
   "source": [
    "a = '''this is a long\n",
    "string that can contain\n",
    "multiple lines.'''"
   ]
  },
  {
   "cell_type": "code",
   "execution_count": 2,
   "metadata": {
    "collapsed": false
   },
   "outputs": [
    {
     "data": {
      "text/plain": [
       "'1'"
      ]
     },
     "execution_count": 2,
     "metadata": {},
     "output_type": "execute_result"
    }
   ],
   "source": [
    "str(1)"
   ]
  },
  {
   "cell_type": "code",
   "execution_count": null,
   "metadata": {
    "collapsed": false
   },
   "outputs": [],
   "source": [
    "type(1)"
   ]
  },
  {
   "cell_type": "code",
   "execution_count": null,
   "metadata": {
    "collapsed": false
   },
   "outputs": [],
   "source": [
    "type(str(1))"
   ]
  },
  {
   "cell_type": "code",
   "execution_count": 7,
   "metadata": {
    "collapsed": false
   },
   "outputs": [
    {
     "name": "stdout",
     "output_type": "stream",
     "text": [
      "<built-in method capitalize of str object at 0x00000000041FE2D8>\n"
     ]
    }
   ],
   "source": [
    " "
   ]
  },
  {
   "cell_type": "markdown",
   "metadata": {},
   "source": [
    "String methods\n",
    "================\n",
    "\n",
    "- Everything is an \"object\"\n",
    "- Objects have functions associated with them\n",
    "- Called **Methods**\n",
    "- Try `string.<TAB>`"
   ]
  },
  {
   "cell_type": "code",
   "execution_count": null,
   "metadata": {
    "collapsed": false
   },
   "outputs": [],
   "source": [
    "a = 'hello'\n",
    "a.capitalize()"
   ]
  },
  {
   "cell_type": "code",
   "execution_count": null,
   "metadata": {
    "collapsed": false
   },
   "outputs": [],
   "source": [
    "a.upper()"
   ]
  },
  {
   "cell_type": "code",
   "execution_count": null,
   "metadata": {
    "collapsed": false
   },
   "outputs": [],
   "source": [
    "a.upper().lower()"
   ]
  },
  {
   "cell_type": "code",
   "execution_count": null,
   "metadata": {
    "collapsed": false
   },
   "outputs": [],
   "source": [
    "a.count('elloh')"
   ]
  },
  {
   "cell_type": "code",
   "execution_count": null,
   "metadata": {
    "collapsed": false
   },
   "outputs": [],
   "source": [
    "a = '''Jack and Jill'''\n",
    "a.split()"
   ]
  },
  {
   "cell_type": "code",
   "execution_count": null,
   "metadata": {
    "collapsed": false
   },
   "outputs": [],
   "source": [
    "a = '''Jack and Jill\n",
    "went up the hill'''\n",
    "type(a)\n",
    "print(a)\n",
    "a"
   ]
  },
  {
   "cell_type": "markdown",
   "metadata": {},
   "source": [
    "Indexing\n",
    "===========\n",
    "\n",
    "- Can index into a string to get different elements.\n"
   ]
  },
  {
   "cell_type": "code",
   "execution_count": null,
   "metadata": {
    "collapsed": false
   },
   "outputs": [],
   "source": [
    "a = 'hello'\n",
    "a[0] + a[2] + a[4]"
   ]
  },
  {
   "cell_type": "code",
   "execution_count": null,
   "metadata": {
    "collapsed": false
   },
   "outputs": [],
   "source": [
    "len(a)"
   ]
  },
  {
   "cell_type": "code",
   "execution_count": null,
   "metadata": {
    "collapsed": false
   },
   "outputs": [],
   "source": [
    "a[5]"
   ]
  },
  {
   "cell_type": "code",
   "execution_count": null,
   "metadata": {
    "collapsed": false
   },
   "outputs": [],
   "source": [
    "a[-1]"
   ]
  },
  {
   "cell_type": "code",
   "execution_count": null,
   "metadata": {
    "collapsed": false
   },
   "outputs": [],
   "source": [
    "a[-2]"
   ]
  },
  {
   "cell_type": "code",
   "execution_count": null,
   "metadata": {
    "collapsed": false
   },
   "outputs": [],
   "source": [
    "a[-6]"
   ]
  },
  {
   "cell_type": "markdown",
   "metadata": {},
   "source": [
    "Slicing\n",
    "========\n",
    "\n",
    "- Slice to get sub-strings."
   ]
  },
  {
   "cell_type": "code",
   "execution_count": null,
   "metadata": {
    "collapsed": false
   },
   "outputs": [],
   "source": [
    "a = 'hello'"
   ]
  },
  {
   "cell_type": "code",
   "execution_count": null,
   "metadata": {
    "collapsed": false
   },
   "outputs": [],
   "source": [
    "a[1:4]"
   ]
  },
  {
   "cell_type": "code",
   "execution_count": null,
   "metadata": {
    "collapsed": false
   },
   "outputs": [],
   "source": [
    "a[:]"
   ]
  },
  {
   "cell_type": "code",
   "execution_count": null,
   "metadata": {
    "collapsed": false
   },
   "outputs": [],
   "source": [
    "a[1:-1]"
   ]
  },
  {
   "cell_type": "code",
   "execution_count": null,
   "metadata": {
    "collapsed": false
   },
   "outputs": [],
   "source": [
    "a[::2]"
   ]
  },
  {
   "cell_type": "markdown",
   "metadata": {},
   "source": [
    "Lists\n",
    "=====\n",
    "\n",
    "- Basic containers\n",
    "- Can contain any data type"
   ]
  },
  {
   "cell_type": "code",
   "execution_count": null,
   "metadata": {
    "collapsed": false
   },
   "outputs": [],
   "source": [
    "x = [1, 2, 3]\n",
    "x"
   ]
  },
  {
   "cell_type": "code",
   "execution_count": null,
   "metadata": {
    "collapsed": false
   },
   "outputs": [],
   "source": [
    "x[0] + x[-1]"
   ]
  },
  {
   "cell_type": "code",
   "execution_count": null,
   "metadata": {
    "collapsed": false
   },
   "outputs": [],
   "source": [
    "x[1:-1]"
   ]
  },
  {
   "cell_type": "code",
   "execution_count": null,
   "metadata": {
    "collapsed": false
   },
   "outputs": [],
   "source": [
    "x[0] = 10\n",
    "x"
   ]
  },
  {
   "cell_type": "code",
   "execution_count": null,
   "metadata": {
    "collapsed": false
   },
   "outputs": [],
   "source": [
    "x.append(4)\n",
    "x"
   ]
  },
  {
   "cell_type": "code",
   "execution_count": null,
   "metadata": {
    "collapsed": false
   },
   "outputs": [],
   "source": [
    "x.append([10,20,5])"
   ]
  },
  {
   "cell_type": "code",
   "execution_count": null,
   "metadata": {
    "collapsed": false
   },
   "outputs": [],
   "source": [
    "x"
   ]
  },
  {
   "cell_type": "code",
   "execution_count": null,
   "metadata": {
    "collapsed": false
   },
   "outputs": [],
   "source": [
    "x.count([10,20,5])"
   ]
  },
  {
   "cell_type": "code",
   "execution_count": null,
   "metadata": {
    "collapsed": false
   },
   "outputs": [],
   "source": [
    "x.index(20)"
   ]
  },
  {
   "cell_type": "markdown",
   "metadata": {},
   "source": [
    "Understanding variables better\n",
    "-------------------------------\n",
    "\n",
    "- What does the following produce?"
   ]
  },
  {
   "cell_type": "code",
   "execution_count": null,
   "metadata": {
    "collapsed": false
   },
   "outputs": [],
   "source": [
    "x = [1,2,3]\n",
    "y = [x]\n",
    "x[0] = 100\n",
    "x = 20\n",
    "y"
   ]
  },
  {
   "cell_type": "code",
   "execution_count": null,
   "metadata": {
    "collapsed": false
   },
   "outputs": [],
   "source": [
    "y.extend([x])\n",
    "x = [10, 20, 30]\n",
    "print(y)\n",
    "print(x)"
   ]
  },
  {
   "cell_type": "markdown",
   "metadata": {},
   "source": [
    "Notes\n",
    "------\n",
    "\n",
    "- Assignment binds name to object\n",
    "- One name, one object\n",
    "- Many names can be associated with the same object\n",
    "- Object destroyed when no names exist for it\n",
    "- `del` keyword"
   ]
  },
  {
   "cell_type": "code",
   "execution_count": null,
   "metadata": {
    "collapsed": false
   },
   "outputs": [],
   "source": [
    "x = [1,2]\n",
    "y = x\n",
    "del x\n",
    "y"
   ]
  },
  {
   "cell_type": "code",
   "execution_count": null,
   "metadata": {
    "collapsed": false
   },
   "outputs": [],
   "source": [
    "del x # removes name\n",
    "x = [1,2,3]\n",
    "del x[0] # Removes first element"
   ]
  },
  {
   "cell_type": "markdown",
   "metadata": {},
   "source": [
    "- Lists can contain anything"
   ]
  },
  {
   "cell_type": "code",
   "execution_count": null,
   "metadata": {
    "collapsed": false
   },
   "outputs": [],
   "source": [
    "x = [1, 1.1, 'hello']\n",
    "x"
   ]
  },
  {
   "cell_type": "code",
   "execution_count": null,
   "metadata": {
    "collapsed": false
   },
   "outputs": [],
   "source": [
    "type(x)"
   ]
  },
  {
   "cell_type": "code",
   "execution_count": null,
   "metadata": {
    "collapsed": false
   },
   "outputs": [],
   "source": [
    "y = ['a', 'b', 'c']\n",
    "x = [1,2,3,4, 200, 10]\n",
    "y[-1].upper()"
   ]
  },
  {
   "cell_type": "code",
   "execution_count": null,
   "metadata": {
    "collapsed": false
   },
   "outputs": [],
   "source": [
    "x = [1,2,3]\n",
    "y = x\n",
    "del x[1]\n",
    "y"
   ]
  },
  {
   "cell_type": "markdown",
   "metadata": {},
   "source": [
    "Interlude: plotting\n",
    "====================\n",
    "\n",
    "- Need to import a module, `matplotlib`.\n",
    "- Also need to setup the notebook"
   ]
  },
  {
   "cell_type": "code",
   "execution_count": 19,
   "metadata": {
    "collapsed": false
   },
   "outputs": [],
   "source": [
    "# Setup matplotlib for the notebook\n",
    "%matplotlib  inline"
   ]
  },
  {
   "cell_type": "markdown",
   "metadata": {},
   "source": [
    "Sub-interlude: more on imports\n",
    "-------------------------------"
   ]
  },
  {
   "cell_type": "code",
   "execution_count": null,
   "metadata": {
    "collapsed": false
   },
   "outputs": [],
   "source": [
    "# Already seen this:\n",
    "import math\n",
    "# Can also do this:\n",
    "from math import sin, cos, sqrt\n",
    "# Or\n",
    "#from math import *  # Avoid this!"
   ]
  },
  {
   "cell_type": "code",
   "execution_count": null,
   "metadata": {
    "collapsed": false
   },
   "outputs": [],
   "source": [
    "import math\n",
    "sin = math.sin\n",
    "sin(2)"
   ]
  },
  {
   "cell_type": "code",
   "execution_count": null,
   "metadata": {
    "collapsed": false
   },
   "outputs": [],
   "source": [
    "# If the name is long, one can do this\n",
    "import math as M\n",
    "M.sqrt(2)"
   ]
  },
  {
   "cell_type": "markdown",
   "metadata": {},
   "source": [
    "Back to plotting\n",
    "-----------------"
   ]
  },
  {
   "cell_type": "code",
   "execution_count": 20,
   "metadata": {
    "collapsed": false
   },
   "outputs": [],
   "source": [
    "from matplotlib import pyplot as plt"
   ]
  },
  {
   "cell_type": "code",
   "execution_count": null,
   "metadata": {
    "collapsed": false
   },
   "outputs": [],
   "source": [
    "# Consider some data\n",
    "x = [0., 1,2,3]\n",
    "y = [7., 11., 15, 19]"
   ]
  },
  {
   "cell_type": "code",
   "execution_count": null,
   "metadata": {
    "collapsed": false
   },
   "outputs": [],
   "source": [
    "# Lets make some pretty(?) pictures!\n",
    "\n",
    "plt.plot(x, y)"
   ]
  },
  {
   "cell_type": "code",
   "execution_count": null,
   "metadata": {
    "collapsed": false
   },
   "outputs": [],
   "source": [
    "# Adding labels\n",
    "plt.plot(x, y)\n",
    "plt.xlabel('x')\n",
    "plt.ylabel('y')\n",
    "plt.title('My awesome plot')"
   ]
  },
  {
   "cell_type": "code",
   "execution_count": null,
   "metadata": {
    "collapsed": false
   },
   "outputs": [],
   "source": [
    "# Without the notebook it is useful to know this:\n",
    "plt.clf() # Clears the screen/plot"
   ]
  },
  {
   "cell_type": "code",
   "execution_count": null,
   "metadata": {
    "collapsed": false
   },
   "outputs": [],
   "source": [
    "# Symbols for plotting\n",
    "plt.plot(x, y, 'o')\n",
    "plt.plot(x, x, 'r-')"
   ]
  },
  {
   "cell_type": "code",
   "execution_count": null,
   "metadata": {
    "collapsed": false
   },
   "outputs": [],
   "source": [
    "# Legends\n",
    "plt.plot(x, y, 'o')\n",
    "plt.plot(x, x, 'r--', linewidth=5)\n",
    "plt.legend(['plot1', 'plot2'])\n",
    "plt.annotate('second point', xy=(1, 11))"
   ]
  },
  {
   "cell_type": "code",
   "execution_count": null,
   "metadata": {
    "collapsed": false
   },
   "outputs": [],
   "source": [
    "# Another way to do legends\n",
    "plt.plot(x, y, 'o', label='plot1')\n",
    "plt.plot(x, x, 'r-', label='plot2')\n",
    "plt.legend()"
   ]
  },
  {
   "cell_type": "markdown",
   "metadata": {},
   "source": [
    "Other symbols and options\n",
    "--------------------------\n",
    "\n",
    "- `'o'`, `'^'`, `'.'`, `'s'`\n",
    "- `'rgbcmyk'`\n",
    "- See help for plt.plot\n"
   ]
  },
  {
   "cell_type": "markdown",
   "metadata": {},
   "source": [
    "Time for an exercise\n",
    "====================\n",
    "\n",
    "- Consider this data:\n",
    "\n",
    "```\n",
    "t      L\n",
    "0.0   0.69\n",
    "0.11  0.9\n",
    "0.12  0.74\n",
    "0.13  0.76\n",
    "0.14  0.84\n",
    "```\n",
    "- Plot L vs t with a red straight line and symbols\n",
    "- Mark the axis and the title.\n",
    "- Annotate the point at t=0.11 with the text \"outlier\""
   ]
  },
  {
   "cell_type": "markdown",
   "metadata": {},
   "source": [
    "Exercise part 2\n",
    "===============\n",
    "\n",
    "- Solve this in a separate program called `plot.py`\n",
    "- Run this\n",
    "- Use `plt.show()` to show a window\n",
    "- Use `plt.savefig(\"plot.png\")` to save an image\n"
   ]
  },
  {
   "cell_type": "code",
   "execution_count": null,
   "metadata": {
    "collapsed": false
   },
   "outputs": [],
   "source": [
    "x = [1,2,3,4]\n",
    "y = [10, 20, 30, 40]"
   ]
  },
  {
   "cell_type": "markdown",
   "metadata": {},
   "source": [
    "Other plots\n",
    "------------"
   ]
  },
  {
   "cell_type": "code",
   "execution_count": null,
   "metadata": {
    "collapsed": false
   },
   "outputs": [],
   "source": [
    "plt.bar(x, y)"
   ]
  },
  {
   "cell_type": "code",
   "execution_count": null,
   "metadata": {
    "collapsed": false
   },
   "outputs": [],
   "source": [
    "x = [1, 2, 3, 1, 1]\n",
    "plt.hist(x)"
   ]
  },
  {
   "cell_type": "code",
   "execution_count": null,
   "metadata": {
    "collapsed": false
   },
   "outputs": [],
   "source": [
    "plt.hist(x, normed=1)"
   ]
  },
  {
   "cell_type": "code",
   "execution_count": null,
   "metadata": {
    "collapsed": false
   },
   "outputs": [],
   "source": [
    "plt.pie(x);"
   ]
  },
  {
   "cell_type": "markdown",
   "metadata": {},
   "source": [
    "More info on plotting\n",
    "---------------------\n",
    "\n",
    "- http://matplotlib.org"
   ]
  },
  {
   "cell_type": "markdown",
   "metadata": {},
   "source": [
    "Booleans and comparisons\n",
    "=========================="
   ]
  },
  {
   "cell_type": "code",
   "execution_count": null,
   "metadata": {
    "collapsed": false
   },
   "outputs": [],
   "source": [
    "a = 1\n",
    "b = 2\n",
    "c = a+b"
   ]
  },
  {
   "cell_type": "code",
   "execution_count": null,
   "metadata": {
    "collapsed": false
   },
   "outputs": [],
   "source": [
    "1 < 2"
   ]
  },
  {
   "cell_type": "code",
   "execution_count": null,
   "metadata": {
    "collapsed": false
   },
   "outputs": [],
   "source": [
    "type(a > b)"
   ]
  },
  {
   "cell_type": "code",
   "execution_count": null,
   "metadata": {
    "collapsed": false
   },
   "outputs": [],
   "source": [
    "a <= b"
   ]
  },
  {
   "cell_type": "code",
   "execution_count": null,
   "metadata": {
    "collapsed": false
   },
   "outputs": [],
   "source": [
    "a <=b <=c"
   ]
  },
  {
   "cell_type": "code",
   "execution_count": null,
   "metadata": {
    "collapsed": false
   },
   "outputs": [],
   "source": [
    "a != 1"
   ]
  },
  {
   "cell_type": "code",
   "execution_count": null,
   "metadata": {
    "collapsed": false
   },
   "outputs": [],
   "source": [
    "a == 1"
   ]
  },
  {
   "cell_type": "code",
   "execution_count": null,
   "metadata": {
    "collapsed": false
   },
   "outputs": [],
   "source": [
    "'hello class' < 'world'  # alphabetical comparison"
   ]
  },
  {
   "cell_type": "code",
   "execution_count": null,
   "metadata": {
    "collapsed": false
   },
   "outputs": [],
   "source": [
    "a == 1 and b == 2"
   ]
  },
  {
   "cell_type": "code",
   "execution_count": null,
   "metadata": {
    "collapsed": false
   },
   "outputs": [],
   "source": [
    "a == 1 or b == 3"
   ]
  },
  {
   "cell_type": "code",
   "execution_count": null,
   "metadata": {
    "collapsed": false
   },
   "outputs": [],
   "source": [
    "not a == 1"
   ]
  },
  {
   "cell_type": "markdown",
   "metadata": {},
   "source": [
    "- As always, use brackets to mark precendence and keep things readable."
   ]
  },
  {
   "cell_type": "markdown",
   "metadata": {},
   "source": [
    "Conditionals\n",
    "============\n",
    "\n",
    "- One major way to write conditionals\n",
    "- `if, elif, else`"
   ]
  },
  {
   "cell_type": "code",
   "execution_count": null,
   "metadata": {
    "collapsed": false
   },
   "outputs": [],
   "source": [
    "if a%2 == 1:\n",
    "    print(\"odd\")\n",
    "else:\n",
    "    print(\"even\")"
   ]
  },
  {
   "cell_type": "code",
   "execution_count": null,
   "metadata": {
    "collapsed": false
   },
   "outputs": [],
   "source": [
    "age = 10\n",
    "if age <= 10:\n",
    "    print(\"kid\")\n",
    "elif age > 10 and age <= 18:\n",
    "    print(\"teenager\")\n",
    "else:\n",
    "    print(\"adult\")"
   ]
  },
  {
   "cell_type": "markdown",
   "metadata": {},
   "source": [
    "Looping\n",
    "========\n",
    "\n",
    "Two major looping constructs\n",
    "\n",
    "- `for` loops\n",
    "- `while` loops"
   ]
  },
  {
   "cell_type": "code",
   "execution_count": null,
   "metadata": {
    "collapsed": false
   },
   "outputs": [],
   "source": [
    "for var in [1,2,3]:\n",
    "    x = var + 1\n",
    "    print(var, x)\n",
    "    print(\"doing...\")\n",
    "print(\"done!\")"
   ]
  },
  {
   "cell_type": "markdown",
   "metadata": {},
   "source": [
    "Exercise\n",
    "---------\n",
    "\n",
    "- Check out the `range` builtin function.\n",
    "- Print the square of the integers from 1-10 using range and a for loop"
   ]
  },
  {
   "cell_type": "code",
   "execution_count": null,
   "metadata": {
    "collapsed": false
   },
   "outputs": [],
   "source": [
    "range()"
   ]
  },
  {
   "cell_type": "code",
   "execution_count": 1,
   "metadata": {
    "collapsed": false
   },
   "outputs": [
    {
     "name": "stdout",
     "output_type": "stream",
     "text": [
      "1\n",
      "4\n",
      "9\n",
      "16\n",
      "25\n",
      "36\n",
      "49\n",
      "64\n",
      "81\n",
      "100\n"
     ]
    }
   ],
   "source": [
    "# Solution\n",
    "for x in range(1, 11):\n",
    "    print(x*x)"
   ]
  },
  {
   "cell_type": "markdown",
   "metadata": {},
   "source": [
    "While loops\n",
    "=============\n",
    "\n",
    "```\n",
    "while condition:\n",
    "   line 1\n",
    "   line 2\n",
    "   ...\n",
    "```\n",
    "\n",
    "- Repeat above exercise with a while loop.\n",
    "- Print the square of the integers from 1-10 using range and a while loop\n"
   ]
  },
  {
   "cell_type": "code",
   "execution_count": 2,
   "metadata": {
    "collapsed": false
   },
   "outputs": [
    {
     "name": "stdout",
     "output_type": "stream",
     "text": [
      "1\n",
      "4\n",
      "9\n",
      "16\n",
      "25\n",
      "36\n",
      "49\n",
      "64\n",
      "81\n",
      "100\n"
     ]
    }
   ],
   "source": [
    "# Solution\n",
    "x = 1\n",
    "while x <= 10:\n",
    "    print(x*x)\n",
    "    x += 1"
   ]
  },
  {
   "cell_type": "code",
   "execution_count": 3,
   "metadata": {
    "collapsed": false
   },
   "outputs": [
    {
     "name": "stdout",
     "output_type": "stream",
     "text": [
      "h\n",
      "e\n",
      "l\n",
      "l\n",
      "o\n",
      " \n",
      "w\n",
      "o\n",
      "r\n",
      "l\n",
      "d\n"
     ]
    }
   ],
   "source": [
    "x = 'hello world'\n",
    "for c in x:\n",
    "    print(c)"
   ]
  },
  {
   "cell_type": "markdown",
   "metadata": {},
   "source": [
    "Exercise\n",
    "---------\n",
    "\n",
    "- Multiplication tables for 5.\n",
    "- Generate sequence of factorials up to 10!\n",
    "- Generate Fibonnaci sequence less than 100"
   ]
  },
  {
   "cell_type": "code",
   "execution_count": 10,
   "metadata": {
    "collapsed": false
   },
   "outputs": [
    {
     "name": "stdout",
     "output_type": "stream",
     "text": [
      "[1, 2, 6, 24, 120, 720, 5040, 40320, 362880, 3628800, 39916800, 479001600, 6227020800, 87178291200, 1307674368000, 20922789888000, 355687428096000, 6402373705728000, 121645100408832000, 2432902008176640000]\n"
     ]
    }
   ],
   "source": [
    "result = []\n",
    "fact = 1\n",
    "for x in range(1, 100):\n",
    "    fact *= x\n",
    "    if fact > 2**64:\n",
    "        break\n",
    "    result.append(fact)\n",
    "print(result)"
   ]
  },
  {
   "cell_type": "markdown",
   "metadata": {},
   "source": [
    "Advanced\n",
    "--------\n",
    "\n",
    "\n",
    "- Use `break` to break out of a loop\n",
    "- Use `continue` to skip rest of code and continue"
   ]
  },
  {
   "cell_type": "markdown",
   "metadata": {},
   "source": [
    "NumPy Arrays\n",
    "===============\n",
    "\n",
    "Consider the following"
   ]
  },
  {
   "cell_type": "code",
   "execution_count": 12,
   "metadata": {
    "collapsed": false
   },
   "outputs": [
    {
     "data": {
      "text/plain": [
       "[0.010000000000000002, 0.0529, 0.16000000000000003, 0.36, 0.6561000000000001]"
      ]
     },
     "execution_count": 12,
     "metadata": {},
     "output_type": "execute_result"
    }
   ],
   "source": [
    "t = [0.1, 0.23, 0.4, 0.6, 0.81]\n",
    "# Find the squares in a variable tsq\n",
    "tsq = []\n",
    "# Solution\n",
    "for x in t:\n",
    "    tsq.append(x*x)\n",
    "tsq"
   ]
  },
  {
   "cell_type": "code",
   "execution_count": 13,
   "metadata": {
    "collapsed": false
   },
   "outputs": [
    {
     "data": {
      "text/plain": [
       "[0.1, 0.23, 0.4, 0.6, 0.81, 0.1, 0.23, 0.4, 0.6, 0.81]"
      ]
     },
     "execution_count": 13,
     "metadata": {},
     "output_type": "execute_result"
    }
   ],
   "source": [
    "t2 = t+t\n",
    "t2"
   ]
  },
  {
   "cell_type": "code",
   "execution_count": null,
   "metadata": {
    "collapsed": false
   },
   "outputs": [],
   "source": []
  },
  {
   "cell_type": "code",
   "execution_count": null,
   "metadata": {
    "collapsed": false
   },
   "outputs": [],
   "source": []
  },
  {
   "cell_type": "code",
   "execution_count": null,
   "metadata": {
    "collapsed": false
   },
   "outputs": [],
   "source": []
  },
  {
   "cell_type": "code",
   "execution_count": null,
   "metadata": {
    "collapsed": false
   },
   "outputs": [],
   "source": []
  },
  {
   "cell_type": "code",
   "execution_count": null,
   "metadata": {
    "collapsed": false
   },
   "outputs": [],
   "source": []
  },
  {
   "cell_type": "code",
   "execution_count": null,
   "metadata": {
    "collapsed": false
   },
   "outputs": [],
   "source": []
  },
  {
   "cell_type": "markdown",
   "metadata": {},
   "source": [
    "- Wouldn't it be nice to do `tsq = t*t`?\n",
    "- NumPy arrays allow us to do this:\n",
    "\n",
    "   - Fixed size and data type.\n",
    "   - Fast\n",
    "   - Very convenient"
   ]
  },
  {
   "cell_type": "code",
   "execution_count": 15,
   "metadata": {
    "collapsed": false
   },
   "outputs": [
    {
     "name": "stdout",
     "output_type": "stream",
     "text": [
      "<type 'list'>\n"
     ]
    },
    {
     "data": {
      "text/plain": [
       "numpy.ndarray"
      ]
     },
     "execution_count": 15,
     "metadata": {},
     "output_type": "execute_result"
    }
   ],
   "source": [
    "import numpy as np\n",
    "t = [0.1, 0.23, 0.4, 0.6, 0.81]\n",
    "print(type(t))\n",
    "t = np.array(t)\n",
    "type(t)"
   ]
  },
  {
   "cell_type": "code",
   "execution_count": 22,
   "metadata": {
    "collapsed": false
   },
   "outputs": [
    {
     "data": {
      "text/plain": [
       "dtype('float64')"
      ]
     },
     "execution_count": 22,
     "metadata": {},
     "output_type": "execute_result"
    }
   ],
   "source": [
    "t.dtype"
   ]
  },
  {
   "cell_type": "code",
   "execution_count": 23,
   "metadata": {
    "collapsed": false
   },
   "outputs": [
    {
     "name": "stdout",
     "output_type": "stream",
     "text": [
      "(array([ 0.1 ,  0.23,  0.4 ,  0.6 ,  0.81]), array([ 0.01  ,  0.0529,  0.16  ,  0.36  ,  0.6561]))\n"
     ]
    }
   ],
   "source": [
    "tsq = t*t\n",
    "print(t, tsq)"
   ]
  },
  {
   "cell_type": "code",
   "execution_count": 24,
   "metadata": {
    "collapsed": false
   },
   "outputs": [
    {
     "data": {
      "text/plain": [
       "[<matplotlib.lines.Line2D at 0x10f27bc90>]"
      ]
     },
     "execution_count": 24,
     "metadata": {},
     "output_type": "execute_result"
    },
    {
     "data": {
      "image/png": "[encoded data removed]",
      "text/plain": [
       "<matplotlib.figure.Figure at 0x10f139910>"
      ]
     },
     "metadata": {},
     "output_type": "display_data"
    }
   ],
   "source": [
    "plt.plot(t, tsq)"
   ]
  },
  {
   "cell_type": "markdown",
   "metadata": {},
   "source": [
    "- But how fast is this?\n",
    "- Let us try this with a large sized list and compare"
   ]
  },
  {
   "cell_type": "code",
   "execution_count": 31,
   "metadata": {
    "collapsed": false
   },
   "outputs": [],
   "source": [
    "t = range(10000000)"
   ]
  },
  {
   "cell_type": "code",
   "execution_count": 37,
   "metadata": {
    "collapsed": false
   },
   "outputs": [],
   "source": [
    "# Solution\n",
    "tsq = []\n",
    "for x in t:\n",
    "    tsq.append(x*x)"
   ]
  },
  {
   "cell_type": "code",
   "execution_count": 33,
   "metadata": {
    "collapsed": false
   },
   "outputs": [],
   "source": [
    "ta = np.array(t)"
   ]
  },
  {
   "cell_type": "code",
   "execution_count": 36,
   "metadata": {
    "collapsed": false
   },
   "outputs": [],
   "source": [
    "tsq = ta*ta"
   ]
  },
  {
   "cell_type": "markdown",
   "metadata": {},
   "source": [
    "Functions\n",
    "---------\n",
    "\n",
    "- No need to keep repeating the code\n",
    "- Define a new function and keep calling it!\n",
    "- Let us define one to square elements of a list"
   ]
  },
  {
   "cell_type": "code",
   "execution_count": 38,
   "metadata": {
    "collapsed": false
   },
   "outputs": [],
   "source": [
    "def sqr(arr):\n",
    "    result = []\n",
    "    for x in arr:\n",
    "        result.append(x*x)\n",
    "    return result"
   ]
  },
  {
   "cell_type": "code",
   "execution_count": 39,
   "metadata": {
    "collapsed": false
   },
   "outputs": [],
   "source": [
    "tsq = sqr(t)"
   ]
  },
  {
   "cell_type": "markdown",
   "metadata": {},
   "source": [
    "Notes\n",
    "------\n",
    "\n",
    "- `def` is a keyword\n",
    "- `sqr` is the name of the function\n",
    "- `arr` is a parameter passed to the function\n",
    "- `return` is a keyword"
   ]
  },
  {
   "cell_type": "markdown",
   "metadata": {},
   "source": [
    "Exercise\n",
    "========\n",
    "\n",
    "1. Write a function to return the cube of a number passed to it.\n",
    "2. Write a function to return a list of the sines of the list of numbers passed to it."
   ]
  },
  {
   "cell_type": "code",
   "execution_count": 41,
   "metadata": {
    "collapsed": false
   },
   "outputs": [
    {
     "data": {
      "text/plain": [
       "1000"
      ]
     },
     "execution_count": 41,
     "metadata": {},
     "output_type": "execute_result"
    }
   ],
   "source": [
    "# Solution\n",
    "def cube(q):\n",
    "    return q**3\n",
    "cube(10)"
   ]
  },
  {
   "cell_type": "code",
   "execution_count": 46,
   "metadata": {
    "collapsed": false
   },
   "outputs": [
    {
     "name": "stdout",
     "output_type": "stream",
     "text": [
      "0\n",
      "1\n",
      "2\n",
      "3\n",
      "4\n",
      "16\n"
     ]
    }
   ],
   "source": [
    "for i in range(5):\n",
    "    print(i)\n",
    "print(i*i)"
   ]
  },
  {
   "cell_type": "code",
   "execution_count": 47,
   "metadata": {
    "collapsed": false
   },
   "outputs": [
    {
     "data": {
      "text/plain": [
       "[0.0, 0.8414709848078965, 0.9092974268256817, 0.1411200080598672]"
      ]
     },
     "execution_count": 47,
     "metadata": {},
     "output_type": "execute_result"
    }
   ],
   "source": [
    "# Solution\n",
    "\n",
    "from math import sin\n",
    "def mysin(arr):\n",
    "    result = []\n",
    "    for x in arr:\n",
    "        result.append(sin(x))\n",
    "    return result\n",
    "mysin([0, 1,2,3])"
   ]
  },
  {
   "cell_type": "code",
   "execution_count": 55,
   "metadata": {
    "collapsed": false
   },
   "outputs": [
    {
     "data": {
      "text/plain": [
       "False"
      ]
     },
     "execution_count": 55,
     "metadata": {},
     "output_type": "execute_result"
    }
   ],
   "source": [
    "import math\n",
    "def is_divisible(x, y):\n",
    "    \"\"\"Check if the integer x is divisible by the integer y.\n",
    "    \"\"\"\n",
    "    if x%y == 0:\n",
    "        return True\n",
    "    else:\n",
    "        return False\n",
    "is_divisible(10, 4.5)"
   ]
  },
  {
   "cell_type": "code",
   "execution_count": 59,
   "metadata": {
    "collapsed": false
   },
   "outputs": [],
   "source": [
    "def apply(arr, func):\n",
    "    \"\"\"Apply the given function `func` to each element of `arr`.\n",
    "    \"\"\"\n",
    "    result = []\n",
    "    for x in arr:\n",
    "        result.append(func(x))\n",
    "    return result \n",
    "junk = apply(t, math.tan)"
   ]
  },
  {
   "cell_type": "code",
   "execution_count": 63,
   "metadata": {
    "collapsed": false
   },
   "outputs": [],
   "source": [
    "my_variable = apply"
   ]
  },
  {
   "cell_type": "code",
   "execution_count": 62,
   "metadata": {
    "collapsed": false
   },
   "outputs": [],
   "source": [
    "junk = my_variable(t, math.sin)"
   ]
  },
  {
   "cell_type": "code",
   "execution_count": 50,
   "metadata": {
    "collapsed": false
   },
   "outputs": [],
   "source": [
    "x = np.sin(t)"
   ]
  },
  {
   "cell_type": "markdown",
   "metadata": {},
   "source": [
    "Aside: Timing execution\n",
    "=======================\n",
    "\n",
    "- Use the `%timeit` magic\n"
   ]
  },
  {
   "cell_type": "code",
   "execution_count": 67,
   "metadata": {
    "collapsed": false
   },
   "outputs": [
    {
     "name": "stdout",
     "output_type": "stream",
     "text": [
      "1 loops, best of 3: 2.54 s per loop\n"
     ]
    }
   ],
   "source": [
    "%timeit tsq = apply(t, math.sin)"
   ]
  },
  {
   "cell_type": "code",
   "execution_count": 68,
   "metadata": {
    "collapsed": false
   },
   "outputs": [
    {
     "name": "stdout",
     "output_type": "stream",
     "text": [
      "1 loops, best of 3: 260 ms per loop\n"
     ]
    }
   ],
   "source": [
    "ta = np.array(t)\n",
    "%timeit np.sin(ta)"
   ]
  },
  {
   "cell_type": "code",
   "execution_count": 69,
   "metadata": {
    "collapsed": false
   },
   "outputs": [
    {
     "data": {
      "text/plain": [
       "9.76923076923077"
      ]
     },
     "execution_count": 69,
     "metadata": {},
     "output_type": "execute_result"
    }
   ],
   "source": [
    "2540/260."
   ]
  },
  {
   "cell_type": "markdown",
   "metadata": {},
   "source": [
    "Back to NumPy arrays\n",
    "=====================\n",
    "\n",
    "- Efficient, powerful array type\n",
    "- Abstracts out standard operations on arrays\n",
    "- Convenience functions\n",
    "- `import numpy as np`\n"
   ]
  },
  {
   "cell_type": "code",
   "execution_count": 77,
   "metadata": {
    "collapsed": false
   },
   "outputs": [
    {
     "name": "stdout",
     "output_type": "stream",
     "text": [
      "(1.0, 4.0)\n"
     ]
    },
    {
     "data": {
      "text/plain": [
       "(dtype('float64'), dtype('float64'))"
      ]
     },
     "execution_count": 77,
     "metadata": {},
     "output_type": "execute_result"
    }
   ],
   "source": [
    "a = np.array([1.,2,3,4])\n",
    "b = np.array([2.,3,4,5])\n",
    "\n",
    "print(a[0], a[-1])\n",
    "a.dtype, b.dtype"
   ]
  },
  {
   "cell_type": "code",
   "execution_count": 78,
   "metadata": {
    "collapsed": false
   },
   "outputs": [],
   "source": [
    "a[0] = -1\n",
    "a[0] = 1"
   ]
  },
  {
   "cell_type": "code",
   "execution_count": 79,
   "metadata": {
    "collapsed": false
   },
   "outputs": [
    {
     "data": {
      "text/plain": [
       "array([ 3.,  5.,  7.,  9.])"
      ]
     },
     "execution_count": 79,
     "metadata": {},
     "output_type": "execute_result"
    }
   ],
   "source": [
    "a + b"
   ]
  },
  {
   "cell_type": "code",
   "execution_count": 80,
   "metadata": {
    "collapsed": false
   },
   "outputs": [
    {
     "data": {
      "text/plain": [
       "array([  2.,   6.,  12.,  20.])"
      ]
     },
     "execution_count": 80,
     "metadata": {},
     "output_type": "execute_result"
    }
   ],
   "source": [
    "a*b"
   ]
  },
  {
   "cell_type": "code",
   "execution_count": 81,
   "metadata": {
    "collapsed": false
   },
   "outputs": [
    {
     "data": {
      "text/plain": [
       "array([ 0.5       ,  0.66666667,  0.75      ,  0.8       ])"
      ]
     },
     "execution_count": 81,
     "metadata": {},
     "output_type": "execute_result"
    }
   ],
   "source": [
    "a/b"
   ]
  },
  {
   "cell_type": "markdown",
   "metadata": {},
   "source": [
    "Lot of useful functions and methods\n",
    "-------------------------------------\n"
   ]
  },
  {
   "cell_type": "code",
   "execution_count": 11,
   "metadata": {
    "collapsed": false
   },
   "outputs": [
    {
     "data": {
      "text/plain": [
       "array([  0.        ,   0.05025126,   0.10050251,   0.15075377,\n",
       "         0.20100503,   0.25125628,   0.30150754,   0.35175879,\n",
       "         0.40201005,   0.45226131,   0.50251256,   0.55276382,\n",
       "         0.60301508,   0.65326633,   0.70351759,   0.75376884,\n",
       "         0.8040201 ,   0.85427136,   0.90452261,   0.95477387,\n",
       "         1.00502513,   1.05527638,   1.10552764,   1.15577889,\n",
       "         1.20603015,   1.25628141,   1.30653266,   1.35678392,\n",
       "         1.40703518,   1.45728643,   1.50753769,   1.55778894,\n",
       "         1.6080402 ,   1.65829146,   1.70854271,   1.75879397,\n",
       "         1.80904523,   1.85929648,   1.90954774,   1.95979899,\n",
       "         2.01005025,   2.06030151,   2.11055276,   2.16080402,\n",
       "         2.21105528,   2.26130653,   2.31155779,   2.36180905,\n",
       "         2.4120603 ,   2.46231156,   2.51256281,   2.56281407,\n",
       "         2.61306533,   2.66331658,   2.71356784,   2.7638191 ,\n",
       "         2.81407035,   2.86432161,   2.91457286,   2.96482412,\n",
       "         3.01507538,   3.06532663,   3.11557789,   3.16582915,\n",
       "         3.2160804 ,   3.26633166,   3.31658291,   3.36683417,\n",
       "         3.41708543,   3.46733668,   3.51758794,   3.5678392 ,\n",
       "         3.61809045,   3.66834171,   3.71859296,   3.76884422,\n",
       "         3.81909548,   3.86934673,   3.91959799,   3.96984925,\n",
       "         4.0201005 ,   4.07035176,   4.12060302,   4.17085427,\n",
       "         4.22110553,   4.27135678,   4.32160804,   4.3718593 ,\n",
       "         4.42211055,   4.47236181,   4.52261307,   4.57286432,\n",
       "         4.62311558,   4.67336683,   4.72361809,   4.77386935,\n",
       "         4.8241206 ,   4.87437186,   4.92462312,   4.97487437,\n",
       "         5.02512563,   5.07537688,   5.12562814,   5.1758794 ,\n",
       "         5.22613065,   5.27638191,   5.32663317,   5.37688442,\n",
       "         5.42713568,   5.47738693,   5.52763819,   5.57788945,\n",
       "         5.6281407 ,   5.67839196,   5.72864322,   5.77889447,\n",
       "         5.82914573,   5.87939698,   5.92964824,   5.9798995 ,\n",
       "         6.03015075,   6.08040201,   6.13065327,   6.18090452,\n",
       "         6.23115578,   6.28140704,   6.33165829,   6.38190955,\n",
       "         6.4321608 ,   6.48241206,   6.53266332,   6.58291457,\n",
       "         6.63316583,   6.68341709,   6.73366834,   6.7839196 ,\n",
       "         6.83417085,   6.88442211,   6.93467337,   6.98492462,\n",
       "         7.03517588,   7.08542714,   7.13567839,   7.18592965,\n",
       "         7.2361809 ,   7.28643216,   7.33668342,   7.38693467,\n",
       "         7.43718593,   7.48743719,   7.53768844,   7.5879397 ,\n",
       "         7.63819095,   7.68844221,   7.73869347,   7.78894472,\n",
       "         7.83919598,   7.88944724,   7.93969849,   7.98994975,\n",
       "         8.04020101,   8.09045226,   8.14070352,   8.19095477,\n",
       "         8.24120603,   8.29145729,   8.34170854,   8.3919598 ,\n",
       "         8.44221106,   8.49246231,   8.54271357,   8.59296482,\n",
       "         8.64321608,   8.69346734,   8.74371859,   8.79396985,\n",
       "         8.84422111,   8.89447236,   8.94472362,   8.99497487,\n",
       "         9.04522613,   9.09547739,   9.14572864,   9.1959799 ,\n",
       "         9.24623116,   9.29648241,   9.34673367,   9.39698492,\n",
       "         9.44723618,   9.49748744,   9.54773869,   9.59798995,\n",
       "         9.64824121,   9.69849246,   9.74874372,   9.79899497,\n",
       "         9.84924623,   9.89949749,   9.94974874,  10.        ])"
      ]
     },
     "execution_count": 11,
     "metadata": {},
     "output_type": "execute_result"
    }
   ],
   "source": [
    "import numpy as np\n",
    "x = np.linspace(0.0, 10.0, 200)\n",
    "x"
   ]
  },
  {
   "cell_type": "code",
   "execution_count": 12,
   "metadata": {
    "collapsed": false
   },
   "outputs": [
    {
     "data": {
      "text/plain": [
       "array([  0.        ,   0.31573796,   0.63147591,   0.94721387,\n",
       "         1.26295182,   1.57868978,   1.89442773,   2.21016569,\n",
       "         2.52590364,   2.8416416 ,   3.15737955,   3.47311751,\n",
       "         3.78885546,   4.10459342,   4.42033137,   4.73606933,\n",
       "         5.05180728,   5.36754524,   5.68328319,   5.99902115,\n",
       "         6.3147591 ,   6.63049706,   6.94623501,   7.26197297,\n",
       "         7.57771092,   7.89344888,   8.20918683,   8.52492479,\n",
       "         8.84066274,   9.1564007 ,   9.47213865,   9.78787661,\n",
       "        10.10361456,  10.41935252,  10.73509047,  11.05082843,\n",
       "        11.36656638,  11.68230434,  11.9980423 ,  12.31378025,\n",
       "        12.62951821,  12.94525616,  13.26099412,  13.57673207,\n",
       "        13.89247003,  14.20820798,  14.52394594,  14.83968389,\n",
       "        15.15542185,  15.4711598 ,  15.78689776,  16.10263571,\n",
       "        16.41837367,  16.73411162,  17.04984958,  17.36558753,\n",
       "        17.68132549,  17.99706344,  18.3128014 ,  18.62853935,\n",
       "        18.94427731,  19.26001526,  19.57575322,  19.89149117,\n",
       "        20.20722913,  20.52296708,  20.83870504,  21.15444299,\n",
       "        21.47018095,  21.7859189 ,  22.10165686,  22.41739481,\n",
       "        22.73313277,  23.04887072,  23.36460868,  23.68034664,\n",
       "        23.99608459,  24.31182255,  24.6275605 ,  24.94329846,\n",
       "        25.25903641,  25.57477437,  25.89051232,  26.20625028,\n",
       "        26.52198823,  26.83772619,  27.15346414,  27.4692021 ,\n",
       "        27.78494005,  28.10067801,  28.41641596,  28.73215392,\n",
       "        29.04789187,  29.36362983,  29.67936778,  29.99510574,\n",
       "        30.31084369,  30.62658165,  30.9423196 ,  31.25805756,\n",
       "        31.57379551,  31.88953347,  32.20527142,  32.52100938,\n",
       "        32.83674733,  33.15248529,  33.46822324,  33.7839612 ,\n",
       "        34.09969915,  34.41543711,  34.73117506,  35.04691302,\n",
       "        35.36265098,  35.67838893,  35.99412689,  36.30986484,\n",
       "        36.6256028 ,  36.94134075,  37.25707871,  37.57281666,\n",
       "        37.88855462,  38.20429257,  38.52003053,  38.83576848,\n",
       "        39.15150644,  39.46724439,  39.78298235,  40.0987203 ,\n",
       "        40.41445826,  40.73019621,  41.04593417,  41.36167212,\n",
       "        41.67741008,  41.99314803,  42.30888599,  42.62462394,\n",
       "        42.9403619 ,  43.25609985,  43.57183781,  43.88757576,\n",
       "        44.20331372,  44.51905167,  44.83478963,  45.15052758,\n",
       "        45.46626554,  45.78200349,  46.09774145,  46.4134794 ,\n",
       "        46.72921736,  47.04495532,  47.36069327,  47.67643123,\n",
       "        47.99216918,  48.30790714,  48.62364509,  48.93938305,\n",
       "        49.255121  ,  49.57085896,  49.88659691,  50.20233487,\n",
       "        50.51807282,  50.83381078,  51.14954873,  51.46528669,\n",
       "        51.78102464,  52.0967626 ,  52.41250055,  52.72823851,\n",
       "        53.04397646,  53.35971442,  53.67545237,  53.99119033,\n",
       "        54.30692828,  54.62266624,  54.93840419,  55.25414215,\n",
       "        55.5698801 ,  55.88561806,  56.20135601,  56.51709397,\n",
       "        56.83283192,  57.14856988,  57.46430783,  57.78004579,\n",
       "        58.09578374,  58.4115217 ,  58.72725966,  59.04299761,\n",
       "        59.35873557,  59.67447352,  59.99021148,  60.30594943,\n",
       "        60.62168739,  60.93742534,  61.2531633 ,  61.56890125,\n",
       "        61.88463921,  62.20037716,  62.51611512,  62.83185307])"
      ]
     },
     "execution_count": 12,
     "metadata": {},
     "output_type": "execute_result"
    }
   ],
   "source": [
    "x *= 2*np.pi\n",
    "x"
   ]
  },
  {
   "cell_type": "code",
   "execution_count": 13,
   "metadata": {
    "collapsed": false
   },
   "outputs": [
    {
     "data": {
      "text/plain": [
       "[<matplotlib.lines.Line2D at 0x10f301790>]"
      ]
     },
     "execution_count": 13,
     "metadata": {},
     "output_type": "execute_result"
    },
    {
     "data": {
      "image/png": "[encoded data removed]",
      "text/plain": [
       "<matplotlib.figure.Figure at 0x10276d410>"
      ]
     },
     "metadata": {},
     "output_type": "display_data"
    }
   ],
   "source": [
    "%matplotlib inline\n",
    "import matplotlib.pyplot as plt\n",
    "# apply functions to array.\n",
    "y = np.sin(x)\n",
    "y = np.cos(x)\n",
    "plt.plot(x, y)"
   ]
  },
  {
   "cell_type": "markdown",
   "metadata": {},
   "source": [
    "Explore more functions\n",
    "-----------------------\n",
    "\n",
    "- Indexing and slicing the same as before\n",
    "- Can create multi-dimensional arrays\n",
    "- See numpy reference: http://docs.scipy.org/doc/numpy/reference/"
   ]
  },
  {
   "cell_type": "code",
   "execution_count": 14,
   "metadata": {
    "collapsed": false
   },
   "outputs": [
    {
     "data": {
      "text/plain": [
       "(5,\n",
       " 2.1400000000000001,\n",
       " 0.42800000000000005,\n",
       " 0.81000000000000005,\n",
       " 0.10000000000000001,\n",
       " 0.0044712000000000007)"
      ]
     },
     "execution_count": 14,
     "metadata": {},
     "output_type": "execute_result"
    }
   ],
   "source": [
    "t = np.array([0.1, 0.23, 0.4, 0.6, 0.81])\n",
    "t.size, t.sum(), t.mean(), t.max(), t.min(), t.prod()"
   ]
  },
  {
   "cell_type": "markdown",
   "metadata": {},
   "source": [
    "Conditionals on arrays\n",
    "-----------------------"
   ]
  },
  {
   "cell_type": "code",
   "execution_count": 15,
   "metadata": {
    "collapsed": false
   },
   "outputs": [
    {
     "data": {
      "text/plain": [
       "array([ True,  True,  True,  True,  True, False, False, False, False, False], dtype=bool)"
      ]
     },
     "execution_count": 15,
     "metadata": {},
     "output_type": "execute_result"
    }
   ],
   "source": [
    "t = np.linspace(0, 1, 10)\n",
    "t < 0.5"
   ]
  },
  {
   "cell_type": "code",
   "execution_count": 16,
   "metadata": {
    "collapsed": false
   },
   "outputs": [
    {
     "data": {
      "text/plain": [
       "False"
      ]
     },
     "execution_count": 16,
     "metadata": {},
     "output_type": "execute_result"
    }
   ],
   "source": [
    "np.all(t<0.5)"
   ]
  },
  {
   "cell_type": "code",
   "execution_count": 17,
   "metadata": {
    "collapsed": false
   },
   "outputs": [
    {
     "data": {
      "text/plain": [
       "True"
      ]
     },
     "execution_count": 17,
     "metadata": {},
     "output_type": "execute_result"
    }
   ],
   "source": [
    "np.any(t<0.5)"
   ]
  },
  {
   "cell_type": "code",
   "execution_count": 18,
   "metadata": {
    "collapsed": false
   },
   "outputs": [
    {
     "data": {
      "text/plain": [
       "array([ 0.        ,  0.11111111,  0.22222222,  0.33333333,  0.44444444])"
      ]
     },
     "execution_count": 18,
     "metadata": {},
     "output_type": "execute_result"
    }
   ],
   "source": [
    "t[t<0.5] # Special indexing!"
   ]
  },
  {
   "cell_type": "code",
   "execution_count": 19,
   "metadata": {
    "collapsed": false
   },
   "outputs": [
    {
     "data": {
      "text/plain": [
       "array([-0.        , -0.11111111, -0.22222222, -0.33333333, -0.44444444,\n",
       "        0.55555556,  0.66666667,  0.77777778,  0.88888889,  1.        ])"
      ]
     },
     "execution_count": 19,
     "metadata": {},
     "output_type": "execute_result"
    }
   ],
   "source": [
    "t[t<0.5] *= -1\n",
    "t"
   ]
  },
  {
   "cell_type": "markdown",
   "metadata": {},
   "source": [
    "- This picks all the elements which have a `True` value.\n",
    "- Very powerful!"
   ]
  },
  {
   "cell_type": "markdown",
   "metadata": {},
   "source": [
    "Homework\n",
    "---------\n",
    "\n",
    "- Also look at:\n",
    "\n",
    "   - `np.diff`\n",
    "   - `np.round`\n",
    "   - `np.cumsum`\n",
    "   - `np.sort`"
   ]
  },
  {
   "cell_type": "code",
   "execution_count": 20,
   "metadata": {
    "collapsed": false
   },
   "outputs": [
    {
     "data": {
      "text/plain": [
       "array(['ABCDE', 'FGHIJK'], \n",
       "      dtype='|S6')"
      ]
     },
     "execution_count": 20,
     "metadata": {},
     "output_type": "execute_result"
    }
   ],
   "source": [
    "np.char.upper(['abcde', 'fghijk'])"
   ]
  },
  {
   "cell_type": "code",
   "execution_count": 22,
   "metadata": {
    "collapsed": false
   },
   "outputs": [
    {
     "data": {
      "text/plain": [
       "array([2, 2, 0])"
      ]
     },
     "execution_count": 22,
     "metadata": {},
     "output_type": "execute_result"
    }
   ],
   "source": [
    "np.char.count(['the quick the brown', \n",
    "               'the fox jumped over the', \n",
    "               'lazy dog'], 'the')"
   ]
  },
  {
   "cell_type": "markdown",
   "metadata": {},
   "source": [
    "See also:\n",
    "\n",
    "- `np.char.find`\n",
    "- `np.char.rfind`\n",
    "- `np.char.isalpha`\n",
    "- `np.char.isnumeric`\n",
    "- `np.char.startswith`"
   ]
  },
  {
   "cell_type": "code",
   "execution_count": null,
   "metadata": {
    "collapsed": false
   },
   "outputs": [],
   "source": []
  },
  {
   "cell_type": "code",
   "execution_count": null,
   "metadata": {
    "collapsed": false
   },
   "outputs": [],
   "source": []
  },
  {
   "cell_type": "markdown",
   "metadata": {},
   "source": [
    "Exercises\n",
    "==============\n",
    "\n",
    "1. Write a function called `fib` which takes one argument `n` and returns the first `n` terms of the Fibonacci sequence. \n",
    "1. Write a function called `fact` which takes one argument `n` and returns a list of the first `n` factorials.\n",
    "1. Write a function that counts the number of vowels used in a given string.  Note that it should consider both upper and lower case characters the same.\n",
    "1. Write a function that displays all three digit numbers that are equal to the sum of the cubes of their digits. That is, print numbers `abc` that have the property `abc = a^3 + b^3 + c^3`. For example, `153 = 1^3 + 5^3 + 3^3`.\n",
    "1. Given a string like, \"1, 3-7, 12, 15, 18-21\", produce the list `[1,3,4,5,6,7,12,15,18,19,20,21]`.\n",
    "\n",
    "\n"
   ]
  },
  {
   "cell_type": "code",
   "execution_count": 9,
   "metadata": {
    "collapsed": false
   },
   "outputs": [],
   "source": [
    "def fib (n):\n",
    "    a = [0,1]\n",
    "    t1=0\n",
    "    t2=1\n",
    "    for var in range(n-2):\n",
    "        t3 = t2\n",
    "        t2 = t1 + t2\n",
    "        t1 = t3\n",
    "        a.append(t2)\n",
    "    return a\n"
   ]
  },
  {
   "cell_type": "code",
   "execution_count": 10,
   "metadata": {
    "collapsed": false
   },
   "outputs": [
    {
     "data": {
      "text/plain": [
       "[0, 1, 1, 2, 3]"
      ]
     },
     "execution_count": 10,
     "metadata": {},
     "output_type": "execute_result"
    }
   ],
   "source": [
    "fib(5)"
   ]
  },
  {
   "cell_type": "code",
   "execution_count": 19,
   "metadata": {
    "collapsed": true
   },
   "outputs": [],
   "source": [
    "def fact(n):\n",
    "    a = [1]\n",
    "    m=1\n",
    "    for var in range (2,n+1):\n",
    "        m*= var\n",
    "        a.append(m)\n",
    "    return a\n"
   ]
  },
  {
   "cell_type": "code",
   "execution_count": 20,
   "metadata": {
    "collapsed": false
   },
   "outputs": [
    {
     "data": {
      "text/plain": [
       "[1, 2, 6, 24, 120]"
      ]
     },
     "execution_count": 20,
     "metadata": {},
     "output_type": "execute_result"
    }
   ],
   "source": [
    "fact(5)"
   ]
  },
  {
   "cell_type": "code",
   "execution_count": 17,
   "metadata": {
    "collapsed": false
   },
   "outputs": [
    {
     "data": {
      "text/plain": [
       "0"
      ]
     },
     "execution_count": 17,
     "metadata": {},
     "output_type": "execute_result"
    }
   ],
   "source": [
    "sent = \"\"\n",
    "def vowel(sent):\n",
    "    return sent.count('a') + sent.count('e') + sent.count('i') + sent.count ('o') + sent.count('u') +sent.count('A') + sent.count ('E')\n",
    "+sent.count('I') + sent.count('O') + sent.count('U')\n",
    "\n",
    "\n",
    "\n"
   ]
  },
  {
   "cell_type": "code",
   "execution_count": 22,
   "metadata": {
    "collapsed": false
   },
   "outputs": [
    {
     "data": {
      "text/plain": [
       "1"
      ]
     },
     "execution_count": 22,
     "metadata": {},
     "output_type": "execute_result"
    }
   ],
   "source": [
    "vowel (\"abcd\")\n"
   ]
  },
  {
   "cell_type": "code",
   "execution_count": 27,
   "metadata": {
    "collapsed": false
   },
   "outputs": [],
   "source": [
    "def armstrong():\n",
    "    sum=0\n",
    "    a = []\n",
    "    for var in range(100,1000):\n",
    "        n = var\n",
    "        while (n!=0):\n",
    "            dig = n%10\n",
    "            sum += dig**3\n",
    "            n=n/10\n",
    "        if (sum==var):\n",
    "            a.append(var)\n",
    "    return a\n",
    "        \n",
    "        \n",
    "    "
   ]
  },
  {
   "cell_type": "code",
   "execution_count": 28,
   "metadata": {
    "collapsed": false
   },
   "outputs": [
    {
     "data": {
      "text/plain": [
       "[]"
      ]
     },
     "execution_count": 28,
     "metadata": {},
     "output_type": "execute_result"
    }
   ],
   "source": [
    "armstrong()"
   ]
  },
  {
   "cell_type": "code",
   "execution_count": 6,
   "metadata": {
    "collapsed": false
   },
   "outputs": [
    {
     "data": {
      "text/plain": [
       "0"
      ]
     },
     "execution_count": 6,
     "metadata": {},
     "output_type": "execute_result"
    }
   ],
   "source": [
    "a =\"helo\"\n",
    "a.count('')"
   ]
  },
  {
   "cell_type": "code",
   "execution_count": 7,
   "metadata": {
    "collapsed": false
   },
   "outputs": [
    {
     "data": {
      "text/plain": [
       "'helo'"
      ]
     },
     "execution_count": 7,
     "metadata": {},
     "output_type": "execute_result"
    }
   ],
   "source": [
    "a\n"
   ]
  },
  {
   "cell_type": "code",
   "execution_count": 8,
   "metadata": {
    "collapsed": false
   },
   "outputs": [
    {
     "name": "stdout",
     "output_type": "stream",
     "text": [
      "h\n",
      "e\n",
      "l\n",
      "o\n"
     ]
    }
   ],
   "source": [
    "for i in range(97,121):\n",
    "    a = (i)\n",
    "    for  in text:\n",
    "        if ()\n",
    "        count++\n",
    "    print ( a + \"=\" + count)\n",
    "    \n",
    "    "
   ]
  },
  {
   "cell_type": "code",
   "execution_count": 9,
   "metadata": {
    "collapsed": false
   },
   "outputs": [
    {
     "data": {
      "text/plain": [
       "dict"
      ]
     },
     "execution_count": 9,
     "metadata": {},
     "output_type": "execute_result"
    }
   ],
   "source": [
    "d = {}\n",
    "type (d)"
   ]
  },
  {
   "cell_type": "code",
   "execution_count": 10,
   "metadata": {
    "collapsed": true
   },
   "outputs": [],
   "source": [
    "d = dict()\n",
    "d = list()"
   ]
  },
  {
   "cell_type": "code",
   "execution_count": 11,
   "metadata": {
    "collapsed": false
   },
   "outputs": [
    {
     "data": {
      "text/plain": [
       "[]"
      ]
     },
     "execution_count": 11,
     "metadata": {},
     "output_type": "execute_result"
    }
   ],
   "source": [
    "d"
   ]
  },
  {
   "cell_type": "code",
   "execution_count": 12,
   "metadata": {
    "collapsed": false
   },
   "outputs": [
    {
     "data": {
      "text/plain": [
       "list"
      ]
     },
     "execution_count": 12,
     "metadata": {},
     "output_type": "execute_result"
    }
   ],
   "source": [
    "type(d)"
   ]
  },
  {
   "cell_type": "code",
   "execution_count": 19,
   "metadata": {
    "collapsed": true
   },
   "outputs": [],
   "source": [
    "text = \"the quick brown fox jumped over the lazy dog\""
   ]
  },
  {
   "cell_type": "code",
   "execution_count": 22,
   "metadata": {
    "collapsed": false
   },
   "outputs": [
    {
     "name": "stdout",
     "output_type": "stream",
     "text": [
      "{' ': 8, 'a': 1, 'c': 1, 'b': 1, 'e': 4, 'd': 2, 'g': 1, 'f': 1, 'i': 1, 'h': 2, 'k': 1, 'j': 1, 'm': 1, 'l': 1, 'o': 4, 'n': 1, 'q': 1, 'p': 1, 'r': 2, 'u': 2, 't': 2, 'w': 1, 'v': 1, 'y': 1, 'x': 1, 'z': 1}\n"
     ]
    }
   ],
   "source": [
    "d = dict()\n",
    "\n",
    "for var in text:\n",
    "    if var in d.keys():\n",
    "        d[var] += 1\n",
    "    else:\n",
    "        d[var] = 1\n",
    "print d\n"
   ]
  },
  {
   "cell_type": "code",
   "execution_count": 25,
   "metadata": {
    "collapsed": false
   },
   "outputs": [],
   "source": [
    "fw = open ('test.txt', 'w')\n",
    "fw.write(''' Hello world!\n",
    "Hello world again!\n",
    "Hello moon!\n",
    "Hello starts!\n",
    "''')\n",
    "fw.close()"
   ]
  },
  {
   "cell_type": "code",
   "execution_count": 26,
   "metadata": {
    "collapsed": true
   },
   "outputs": [],
   "source": [
    "import urllib\n",
    "url = \"http://www.gutenberg.org/ebooks/76.txt.utf-8\"\n",
    "document = urllib.urlopen(url)\n",
    "data = document.read()"
   ]
  },
  {
   "cell_type": "code",
   "execution_count": 27,
   "metadata": {
    "collapsed": true
   },
   "outputs": [],
   "source": [
    "from collections import Counter"
   ]
  },
  {
   "cell_type": "code",
   "execution_count": 28,
   "metadata": {
    "collapsed": true
   },
   "outputs": [],
   "source": [
    "c = Counter(data.lower())"
   ]
  },
  {
   "cell_type": "code",
   "execution_count": 29,
   "metadata": {
    "collapsed": false
   },
   "outputs": [
    {
     "data": {
      "text/plain": [
       "[(' ', 104593),\n",
       " ('e', 49627),\n",
       " ('t', 42840),\n",
       " ('o', 37031),\n",
       " ('a', 36962),\n",
       " ('n', 33132),\n",
       " ('i', 28654),\n",
       " ('h', 26676),\n",
       " ('s', 25527),\n",
       " ('d', 23917)]"
      ]
     },
     "execution_count": 29,
     "metadata": {},
     "output_type": "execute_result"
    }
   ],
   "source": [
    "c.most_common(10)"
   ]
  },
  {
   "cell_type": "code",
   "execution_count": null,
   "metadata": {
    "collapsed": true
   },
   "outputs": [],
   "source": []
  }
 ],
 "metadata": {
  "kernelspec": {
   "display_name": "Python 2",
   "language": "python",
   "name": "python2"
  },
  "language_info": {
   "codemirror_mode": {
    "name": "ipython",
    "version": 2
   },
   "file_extension": ".py",
   "mimetype": "text/x-python",
   "name": "python",
   "nbconvert_exporter": "python",
   "pygments_lexer": "ipython2",
   "version": "2.7.11"
  }
 },
 "nbformat": 4,
 "nbformat_minor": 0
}
