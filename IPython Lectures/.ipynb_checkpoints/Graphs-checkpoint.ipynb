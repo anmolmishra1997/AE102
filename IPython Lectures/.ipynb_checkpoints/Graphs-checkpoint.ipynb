{
 "cells": [
  {
   "cell_type": "code",
   "execution_count": 3,
   "metadata": {
    "collapsed": false
   },
   "outputs": [
    {
     "ename": "IOError",
     "evalue": "[Errno 2] No such file or directory: 'C:\\\\Users\\\\Anmol Mishra\\\\CC3DWorkspace@ steps\\\\Demo.cc3d-2016-04-29-13-28-22-092000\\\\data.csv'",
     "output_type": "error",
     "traceback": [
      "\u001b[1;31m---------------------------------------------------------------------------\u001b[0m",
      "\u001b[1;31mIOError\u001b[0m                                   Traceback (most recent call last)",
      "\u001b[1;32m<ipython-input-3-18fac6e008d4>\u001b[0m in \u001b[0;36m<module>\u001b[1;34m()\u001b[0m\n\u001b[0;32m      1\u001b[0m \u001b[1;32mimport\u001b[0m \u001b[0mcsv\u001b[0m\u001b[1;33m\u001b[0m\u001b[0m\n\u001b[1;32m----> 2\u001b[1;33m \u001b[0mf1\u001b[0m \u001b[1;33m=\u001b[0m \u001b[0mopen\u001b[0m \u001b[1;33m(\u001b[0m\u001b[1;34m\"C:\\Users\\Anmol Mishra\\CC3DWorkspace\\500 steps\\Demo.cc3d-2016-04-29-13-28-22-092000\\data.csv\"\u001b[0m \u001b[1;33m,\u001b[0m \u001b[1;34m\"rb\"\u001b[0m\u001b[1;33m)\u001b[0m\u001b[1;33m\u001b[0m\u001b[0m\n\u001b[0m\u001b[0;32m      3\u001b[0m \u001b[0mdata1\u001b[0m \u001b[1;33m=\u001b[0m \u001b[0mf1\u001b[0m\u001b[1;33m.\u001b[0m\u001b[0mread\u001b[0m\u001b[1;33m(\u001b[0m\u001b[1;33m)\u001b[0m\u001b[1;33m\u001b[0m\u001b[0m\n\u001b[0;32m      4\u001b[0m \u001b[0mf1\u001b[0m\u001b[1;33m.\u001b[0m\u001b[0mclose\u001b[0m\u001b[1;33m(\u001b[0m\u001b[1;33m)\u001b[0m\u001b[1;33m\u001b[0m\u001b[0m\n\u001b[0;32m      5\u001b[0m \u001b[0mf2\u001b[0m \u001b[1;33m=\u001b[0m \u001b[0mopen\u001b[0m \u001b[1;33m(\u001b[0m\u001b[1;34m\"C:\\Users\\Anmol Mishra\\CC3DWorkspace\\500 steps\\Demo.cc3d-2016-04-29-13-29-28-272000\\data.csv\"\u001b[0m \u001b[1;33m,\u001b[0m \u001b[1;34m\"rb\"\u001b[0m\u001b[1;33m)\u001b[0m\u001b[1;33m\u001b[0m\u001b[0m\n",
      "\u001b[1;31mIOError\u001b[0m: [Errno 2] No such file or directory: 'C:\\\\Users\\\\Anmol Mishra\\\\CC3DWorkspace@ steps\\\\Demo.cc3d-2016-04-29-13-28-22-092000\\\\data.csv'"
     ]
    }
   ],
   "source": [
    "import csv\n",
    "f1 = open (\"C:\\Users\\Anmol Mishra\\CC3DWorkspace\\500 steps\\Demo.cc3d-2016-04-29-13-28-22-092000\\data.csv\" , \"rb\")\n",
    "data1 = f1.read()\n",
    "f1.close()\n",
    "f2 = open (\"C:\\Users\\Anmol Mishra\\CC3DWorkspace\\500 steps\\Demo.cc3d-2016-04-29-13-29-28-272000\\data.csv\" , \"rb\")\n",
    "data2 = f2.read()\n",
    "f2.close()\n",
    "f3 = open (\"C:\\Users\\Anmol Mishra\\CC3DWorkspace\\500 steps\\Demo.cc3d-2016-04-29-13-30-43-150000\\data.csv\" , \"rb\")\n",
    "data3 = f3.read()\n",
    "f3.close()\n",
    "f4 = open (\"C:\\Users\\Anmol Mishra\\CC3DWorkspace\\500 steps\\Demo.cc3d-2016-04-29-13-32-55-878000\\data.csv\" , \"rb\")\n",
    "data4 = f4.read()\n",
    "f4.close()\n",
    "f5 = open (\"C:\\Users\\Anmol Mishra\\CC3DWorkspace\\500 steps\\Demo.cc3d-2016-04-29-13-34-31-375000\\data.csv\" , \"rb\")\n",
    "data5 = f5.read()\n",
    "f5.close()\n",
    "f6 = open (\"C:\\Users\\Anmol Mishra\\CC3DWorkspace\\500 steps\\Demo.cc3d-2016-04-29-13-35-51-807000\\data.csv\" , \"rb\")\n",
    "data6 = f6.read()\n",
    "f6.close()\n",
    "f7 = open (\"C:\\Users\\Anmol Mishra\\CC3DWorkspace\\500 steps\\Demo.cc3d-2016-04-29-13-37-00-748000\\data.csv\" , \"rb\")\n",
    "data7 = f7.read()\n",
    "f7.close()\n",
    "f8 = open (\"C:\\Users\\Anmol Mishra\\CC3DWorkspace\\500 steps\\Demo.cc3d-2016-04-29-13-38-04-558000\\data.csv\" , \"rb\")\n",
    "data8 = f8.read()\n",
    "f8.close()\n",
    "f9 = open (\"C:\\Users\\Anmol Mishra\\CC3DWorkspace\\500 steps\\Demo.cc3d-2016-04-29-13-40-01-423000\\data.csv\" , \"rb\")\n",
    "data9 = f9.read()\n",
    "f9.close()\n",
    "f10 = open (\"C:\\Users\\Anmol Mishra\\CC3DWorkspace\\500 steps\\Demo.cc3d-2016-04-29-13-40-57-443000\\data.csv\" , \"rb\")\n",
    "data10 = f10.read()\n",
    "f10.close()"
   ]
  },
  {
   "cell_type": "code",
   "execution_count": null,
   "metadata": {
    "collapsed": true
   },
   "outputs": [],
   "source": [
    "data500 = [data1, data2, data3, data4, data5, data6, data7, data8, data9, data10]\n",
    "data700 = [data11, data12, data13, data14, data15, data16, data17, data18, data19, data20]"
   ]
  },
  {
   "cell_type": "code",
   "execution_count": null,
   "metadata": {
    "collapsed": false
   },
   "outputs": [],
   "source": []
  },
  {
   "cell_type": "code",
   "execution_count": null,
   "metadata": {
    "collapsed": true
   },
   "outputs": [],
   "source": []
  }
 ],
 "metadata": {
  "kernelspec": {
   "display_name": "Python 2",
   "language": "python",
   "name": "python2"
  },
  "language_info": {
   "codemirror_mode": {
    "name": "ipython",
    "version": 2
   },
   "file_extension": ".py",
   "mimetype": "text/x-python",
   "name": "python",
   "nbconvert_exporter": "python",
   "pygments_lexer": "ipython2",
   "version": "2.7.11"
  }
 },
 "nbformat": 4,
 "nbformat_minor": 0
}
