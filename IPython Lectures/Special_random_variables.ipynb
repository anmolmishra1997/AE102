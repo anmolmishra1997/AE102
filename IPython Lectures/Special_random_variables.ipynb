{
 "cells": [
  {
   "cell_type": "code",
   "execution_count": 2,
   "metadata": {
    "collapsed": false
   },
   "outputs": [],
   "source": [
    "%matplotlib inline\n",
    "import matplotlib.pyplot as plt\n",
    "from ipywidgets import interact, IntSlider, FloatSlider"
   ]
  },
  {
   "cell_type": "markdown",
   "metadata": {},
   "source": [
    "# Special random variables"
   ]
  },
  {
   "cell_type": "markdown",
   "metadata": {},
   "source": [
    "The following sections introduce the various special random variables.\n",
    "\n",
    " * These are frequently encountered.\n",
    " * Useful and fundamentally important."
   ]
  },
  {
   "cell_type": "markdown",
   "metadata": {},
   "source": [
    "## Bernoulli Random variable (Bernoulli trial)"
   ]
  },
  {
   "cell_type": "markdown",
   "metadata": {},
   "source": [
    "* Experiment is one of success/failure\n",
    "\n",
    "* $X = 1$ on success\n",
    "* $X = 0$ on failure\n",
    "* $P(X=1) = p$\n",
    "* $P(X=0) = 1-p$\n"
   ]
  },
  {
   "cell_type": "markdown",
   "metadata": {},
   "source": [
    "Note that\n",
    "\n",
    "* $E[X] = p$\n",
    "* $Var(X) = p(1-p)$"
   ]
  },
  {
   "cell_type": "markdown",
   "metadata": {},
   "source": [
    "## Binomial Random variable"
   ]
  },
  {
   "cell_type": "markdown",
   "metadata": {},
   "source": [
    "* $n$ independent Bernoulli trials (with probability $p$ for success)\n",
    "* $X$ is number of successes\n",
    "\n",
    "Clearly:\n",
    "\n",
    "* $P[X=i] = {{n}\\choose{i}} p^i (1-p)^{n-i}$ where $i=0, 1, \\ldots n$\n",
    "\n",
    "if $X = \\sum_{i=1}^n X_i$\n",
    "\n",
    "* $E[X] = np$\n",
    "\n",
    "* $Var(X) = np(1-p)$\n",
    "\n",
    "* Called the binomial random variable with parameters $(n,p)$."
   ]
  },
  {
   "cell_type": "code",
   "execution_count": 5,
   "metadata": {
    "collapsed": false
   },
   "outputs": [
    {
     "data": {
      "text/plain": [
       "[<matplotlib.lines.Line2D at 0x1106eee10>]"
      ]
     },
     "execution_count": 5,
     "metadata": {},
     "output_type": "execute_result"
    },
    {
     "data": {
      "image/png": "[encoded data removed]",
      "text/plain": [
       "<matplotlib.figure.Figure at 0x1106491d0>"
      ]
     },
     "metadata": {},
     "output_type": "display_data"
    }
   ],
   "source": [
    "from scipy.stats import binom\n",
    "import numpy as np\n",
    "\n",
    "rv = binom(5, 0.8)\n",
    "x = np.arange(0, 6)\n",
    "plt.plot(x, rv.pmf(x), 'o')"
   ]
  },
  {
   "cell_type": "code",
   "execution_count": 6,
   "metadata": {
    "collapsed": false
   },
   "outputs": [
    {
     "data": {
      "image/png": "[encoded data removed]",
      "text/plain": [
       "<matplotlib.figure.Figure at 0x1107414d0>"
      ]
     },
     "metadata": {},
     "output_type": "display_data"
    }
   ],
   "source": [
    "import numpy as np\n",
    "from scipy.stats import binom, norm\n",
    "\n",
    "def plot_binom(n, p):\n",
    "    rv = binom(n, p)\n",
    "    x = np.arange(0, n+1)\n",
    "    # Compare with a normal distribution\n",
    "    mu, sigma = n*p, np.sqrt(n*p*(1-p))\n",
    "    plt.plot(x, norm.pdf(x, loc=mu, scale=sigma), 'g--')\n",
    "    plt.plot(x, rv.pmf(x), 'bo')\n",
    "    plt.vlines(x, 0, rv.pmf(x), colors='b', alpha=0.5, lw=5)\n",
    "\n",
    "#plot_binom(5, 0.1)    \n",
    "interact(plot_binom, n=FloatSlider(min=1, max=100, value=5, step=1), p=(0.01, 0.99, 0.01))\n",
    "#interact(plot_binom, n=(1, 100), p=(0.01, 0.99))"
   ]
  },
  {
   "cell_type": "markdown",
   "metadata": {},
   "source": [
    "See that as $n$ increases it seems to behave like a Gaussian."
   ]
  },
  {
   "cell_type": "markdown",
   "metadata": {},
   "source": [
    "Note that:\n",
    "\n",
    "* $P[X = k+1] = \\frac{p}{1-p} \\frac{n-k}{k+1} P[X=k]$\n"
   ]
  },
  {
   "cell_type": "markdown",
   "metadata": {},
   "source": [
    "----"
   ]
  },
  {
   "cell_type": "markdown",
   "metadata": {},
   "source": [
    "## The Poisson random variable"
   ]
  },
  {
   "cell_type": "markdown",
   "metadata": {},
   "source": [
    "$X = 0, 1, 2, \\ldots$ with parameter $\\lambda>0$ such that,\n",
    "\n",
    " * $P[X=i] = e^{-\\lambda} \\frac{\\lambda^i}{i!}$\n",
    "\n",
    "\n",
    "**Exercise**\n",
    "\n",
    "Show that this is a proper PMF, i.e. $\\sum_{i=0}^\\infty p(i) = 1$\n",
    "\n",
    "sdasd\n",
    "\n",
    "\n",
    "MGF is given as\n",
    "\n",
    "* $\\phi(t) = E[e^{tX}] = \\exp({\\lambda(e^t -1)})$\n",
    "* $E[X] = \\lambda$\n",
    "* $Var(X) = \\lambda$\n",
    "\n",
    "* This approximates the binomial RV when $n$ is large and $p$ is small.\n",
    "* That is for large $n$ and small $p$:\n",
    "$P [X=i] \\approx e^{-\\lambda} \\frac{\\lambda^i}{i!}$\n",
    "\n",
    "\n",
    "**Examples**\n",
    "\n",
    "1. Number of wrong telephone numbers dialled in a day by all students.\n",
    "2. Number of customers visiting a shop on a given day.\n",
    "3. Number of misprints on a page.\n",
    "4. Number of $\\alpha$ particles discharged in time $T$ from a radioactive substance.\n",
    "\n"
   ]
  },
  {
   "cell_type": "code",
   "execution_count": 7,
   "metadata": {
    "collapsed": false
   },
   "outputs": [
    {
     "data": {
      "image/png": "[encoded data removed]",
      "text/plain": [
       "<matplotlib.figure.Figure at 0x111240fd0>"
      ]
     },
     "metadata": {},
     "output_type": "display_data"
    }
   ],
   "source": [
    "from scipy.stats import poisson, norm\n",
    "\n",
    "def plot_poisson(lamda):\n",
    "    rv = poisson(lamda)\n",
    "    min, max = rv.ppf(0.0001), rv.ppf(0.9999)\n",
    "    x = np.arange(min, max)\n",
    "    plt.plot(x, norm.pdf(x, loc=lamda, scale=np.sqrt(lamda)), 'g--')\n",
    "    plt.plot(x, rv.pmf(x), 'bo')\n",
    "    plt.vlines(x, 0, rv.pmf(x), colors='b', alpha=0.5, lw=5)\n",
    "interact(plot_poisson, lamda=FloatSlider(min=0.0, max=100, value=4))\n"
   ]
  },
  {
   "cell_type": "markdown",
   "metadata": {},
   "source": [
    "Exercise\n",
    "--------\n",
    "\n",
    "Suppose that the average number of accidents occurring weekly on a particular stretch of a highway equals 3. Calculate the probability that there is at least one accident this week."
   ]
  },
  {
   "cell_type": "code",
   "execution_count": 27,
   "metadata": {
    "collapsed": false
   },
   "outputs": [
    {
     "data": {
      "text/plain": [
       "[<matplotlib.lines.Line2D at 0x114392190>]"
      ]
     },
     "execution_count": 27,
     "metadata": {},
     "output_type": "execute_result"
    },
    {
     "data": {
      "image/png": "[encoded data removed]",
      "text/plain": [
       "<matplotlib.figure.Figure at 0x1140a97d0>"
      ]
     },
     "metadata": {},
     "output_type": "display_data"
    }
   ],
   "source": [
    "# Demo of generating random numbers given a distribution using Python.\n",
    "from scipy.stats import poisson\n",
    "rv = poisson(4)\n",
    "values = rv.rvs(1000000)\n",
    "plt.hist(values, bins=13,normed=True)\n",
    "x = range(0, 13)\n",
    "plt.plot(x, rv.pmf(x), 'ro')"
   ]
  },
  {
   "cell_type": "markdown",
   "metadata": {},
   "source": [
    "Note\n",
    "------\n",
    "\n",
    "* Foo $P\\{X=i+1\\} = \\frac{\\lambda}{i+1} P\\{X=i\\}$\n",
    "* The sum of independent Poisson random varialbes is also a Poisson RV.\n",
    "    * Proof using MGF.\n",
    "    \n",
    "-----\n"
   ]
  },
  {
   "cell_type": "markdown",
   "metadata": {},
   "source": [
    "## The Uniform Random Variable"
   ]
  },
  {
   "cell_type": "markdown",
   "metadata": {},
   "source": [
    "$f(x) = \\frac{1}{\\beta - \\alpha}$ when \n",
    "$\\alpha \\leq x \\leq \\beta$ and 0 otherwise\n",
    "\n",
    "* This is a continuous RV\n",
    "\n",
    "* $E[X] = (\\alpha + \\beta)/2$\n",
    "* $Var(X) = (\\beta - \\alpha)^2/12$\n",
    "\n",
    "* Available in `numpy.random.random`\n",
    "\n",
    "\n",
    "**Aside**\n",
    "\n",
    "* Blind experiment\n",
    "* Double blind experiment\n"
   ]
  },
  {
   "cell_type": "markdown",
   "metadata": {},
   "source": [
    "## Normal random variables"
   ]
  },
  {
   "cell_type": "markdown",
   "metadata": {},
   "source": [
    "Given parameters $\\mu$ and $\\sigma^2$, we have:\n",
    "\n",
    "$f(x) = \\frac{1}{\\sqrt{2 \\pi \\sigma^2}} e^{-(x-\\mu)^2/(2\\sigma^2)}$\n",
    "\n",
    "* We'll be seeing quite a bit of this RV.\n",
    "* Approximates binomial when $n$ is large, lets see this!\n",
    "\n",
    "\n",
    "* Many measurements are distributed normally.\n",
    "* Velocity in any direction of a molecule of gas.\n",
    "* Variation in height of a person.\n",
    "\n"
   ]
  },
  {
   "cell_type": "code",
   "execution_count": 28,
   "metadata": {
    "collapsed": false
   },
   "outputs": [
    {
     "data": {
      "image/png": "[encoded data removed]",
      "text/plain": [
       "<matplotlib.figure.Figure at 0x115356990>"
      ]
     },
     "metadata": {},
     "output_type": "display_data"
    }
   ],
   "source": [
    "from scipy.stats import norm\n",
    "\n",
    "def plot_normal(mu, sigma):\n",
    "    rv = norm(loc=mu, scale=sigma)\n",
    "    min, max = rv.ppf(0.0001), rv.ppf(0.9999)\n",
    "    diff = max - min\n",
    "    x = np.linspace(min, max)\n",
    "    plt.xlim(-15, 15)\n",
    "    plt.plot(x, rv.pdf(x))\n",
    "interact(plot_normal, mu=FloatSlider(min=-10., max=10., value=0.0), \n",
    "         sigma=FloatSlider(min=0.01, max=10, value=1.0))"
   ]
  },
  {
   "cell_type": "markdown",
   "metadata": {},
   "source": [
    "We can show that:\n",
    "\n",
    "* $E[X] = \\mu$\n",
    "* $Var(X) = \\sigma^2$\n",
    "* $E[a + bX] = a + b\\mu$\n",
    "* $Var(a + bX) = b^2\\sigma^2$\n",
    "* MGF = $exp(\\mu t + \\sigma^2 t^2/2)$"
   ]
  },
  {
   "cell_type": "markdown",
   "metadata": {},
   "source": [
    "### Standard/unit Normal Distribution"
   ]
  },
  {
   "cell_type": "markdown",
   "metadata": {},
   "source": [
    "If $Z = \\frac{X-\\mu}{\\sigma}$\n",
    "\n",
    "Then $Z$ has mean 0 and variance 1, this is a standard normal distribution, we denote $\\phi$ as the distribution function:\n",
    "\n",
    "$\\phi(x) = \\frac{1}{\\sqrt{2 \\pi}} \\int_{-\\infty}^x e^{-y^2/2} dy$\n",
    "\n",
    "Therefore:\n",
    "\n",
    "$P\\{X<b\\} = P \\left\\{ \\frac{X-\\mu}{\\sigma} < \\frac{b-\\mu}{\\sigma}\\right\\}$\n",
    "\n",
    "$P\\{X<b\\} = \\phi(\\frac{b-\\mu}{\\sigma})$\n",
    "\n",
    "Also,\n",
    "$P\\{a<X < b \\} = \\phi(\\frac{b-\\mu}{\\sigma}) - \\phi(\\frac{a-\\mu}{\\sigma})$\n",
    "\n",
    "\n",
    "By symmetry:\n",
    "\n",
    "$\\phi(-x) = P\\{Z < -x \\} = P\\{Z > x \\} = 1 - \\phi(x)$ \n",
    "\n",
    "-----\n",
    "\n",
    "**Useful results**\n",
    "\n",
    "* Sum of independent normal RVs is also normal.\n",
    "\n",
    "    * Let $X_i$ be normal with $\\mu_i, \\sigma_i$ and consider MGF.\n",
    "\n",
    "    * Note that if MGF/moments are same, then distribution is same.\n",
    "\n",
    "\n",
    "For $0< \\alpha < 1$, let $z_\\alpha$ be such that,\n",
    "\n",
    "$P\\{Z > z_\\alpha \\} = 1 - \\phi(z_\\alpha) = \\alpha$\n",
    "\n",
    "Clearly,\n",
    "\n",
    "$P\\{Z < z_\\alpha \\} = 1 - \\alpha$\n"
   ]
  },
  {
   "cell_type": "code",
   "execution_count": 33,
   "metadata": {
    "collapsed": false
   },
   "outputs": [
    {
     "name": "stdout",
     "output_type": "stream",
     "text": [
      "0.0499849055391\n",
      "1.64485362695\n"
     ]
    },
    {
     "data": {
      "text/plain": [
       "(array([   2.,    1.,    1.,    1.,    4.,    9.,   12.,   11.,   18.,\n",
       "          34.,   42.,   70.,   93.,  138.,  170.,  220.,  296.,  300.,\n",
       "         424.,  451.,  523.,  577.,  641.,  654.,  616.,  675.,  626.,\n",
       "         596.,  506.,  448.,  396.,  317.,  284.,  227.,  181.,  138.,\n",
       "          99.,   72.,   40.,   31.,   19.,   21.,    6.,    5.,    3.,\n",
       "           1.,    0.,    0.,    0.,    1.]),\n",
       " array([-3.99620389, -3.83284972, -3.66949556, -3.5061414 , -3.34278724,\n",
       "        -3.17943307, -3.01607891, -2.85272475, -2.68937059, -2.52601642,\n",
       "        -2.36266226, -2.1993081 , -2.03595393, -1.87259977, -1.70924561,\n",
       "        -1.54589145, -1.38253728, -1.21918312, -1.05582896, -0.8924748 ,\n",
       "        -0.72912063, -0.56576647, -0.40241231, -0.23905815, -0.07570398,\n",
       "         0.08765018,  0.25100434,  0.4143585 ,  0.57771267,  0.74106683,\n",
       "         0.90442099,  1.06777516,  1.23112932,  1.39448348,  1.55783764,\n",
       "         1.72119181,  1.88454597,  2.04790013,  2.21125429,  2.37460846,\n",
       "         2.53796262,  2.70131678,  2.86467094,  3.02802511,  3.19137927,\n",
       "         3.35473343,  3.51808759,  3.68144176,  3.84479592,  4.00815008,\n",
       "         4.17150425]),\n",
       " <a list of 50 Patch objects>)"
      ]
     },
     "execution_count": 33,
     "metadata": {},
     "output_type": "execute_result"
    },
    {
     "data": {
      "image/png": "[encoded data removed]",
      "text/plain": [
       "<matplotlib.figure.Figure at 0x1152322d0>"
      ]
     },
     "metadata": {},
     "output_type": "display_data"
    }
   ],
   "source": [
    "from scipy.stats import norm\n",
    "rv = norm(loc=0.0, scale=1)\n",
    "\n",
    "print rv.sf(1.645) # This is 1 - phi(x)\n",
    "print rv.isf(0.05) # this is the inverse, i.e. given alpha, it gives $z_\\alpha$\n",
    "plt.hist(rv.rvs(10000), bins=50)"
   ]
  },
  {
   "cell_type": "markdown",
   "metadata": {},
   "source": [
    "## Exponential Random Variables"
   ]
  },
  {
   "cell_type": "markdown",
   "metadata": {},
   "source": [
    "For $\\lambda > 0$,\n",
    "\n",
    "$f(x) = \\lambda e^{-\\lambda x}$ when $x \\geq 0$ and 0 otherwise\n",
    "\n",
    "\n",
    "$F(x) = 1 - e^{-\\lambda x}$ when $x \\geq 0$.\n",
    "\n",
    "\n",
    "This is the amount of time until some specific event occurs:\n",
    "\n",
    "* Time until an earthquake occurs\n",
    "* Time until a telephone call is a wrong number.\n",
    "\n",
    "\n",
    "* $E[X] = 1/\\lambda$\n",
    "* $Var(X) = 1/\\lambda^2$\n",
    "* MGF:  $\\lambda/(\\lambda - t)$ when $t<\\lambda$.\n",
    "\n",
    "The Exponential distribution is memoryless.\n",
    "\n",
    "* $P\\{ X > s+t | X> t \\} = P \\{ X > s \\} \\forall s, t \\geq 0$\n",
    "\n",
    "This means that if an item is functioning, it is as good as new!\n",
    "\n",
    "\n",
    "Examples\n",
    "----------\n",
    "\n",
    "- The time between events in a *Poisson process*.\n",
    "- Poisson process: events occur independently, continuously at a constant average rate.\n",
    "\n",
    "- Time it takes before your next phone call (at a specified time of day/week)\n",
    "- Time between clicks of a Gieger counter.\n",
    "\n",
    "\n",
    "\n",
    "\n",
    "Exercise\n",
    "---------\n",
    "\n",
    "How do you show that this distribution is memoryless?\n",
    "\n"
   ]
  },
  {
   "cell_type": "code",
   "execution_count": 7,
   "metadata": {
    "collapsed": false
   },
   "outputs": [
    {
     "data": {
      "text/plain": [
       "<function __main__.exp>"
      ]
     },
     "execution_count": 7,
     "metadata": {},
     "output_type": "execute_result"
    },
    {
     "data": {
      "image/png": "[encoded data removed]",
      "text/plain": [
       "<matplotlib.figure.Figure at 0x1108966d0>"
      ]
     },
     "metadata": {},
     "output_type": "display_data"
    }
   ],
   "source": [
    "def exp(lamda):\n",
    "    x = np.linspace(0, 10, 1000)\n",
    "    plt.plot(x, lamda*np.exp(-lamda*x))\n",
    "    plt.xlim(0, 5); plt.ylim(0, 5)\n",
    "interact(exp, lamda=(0, 10, 0.1))"
   ]
  },
  {
   "cell_type": "markdown",
   "metadata": {},
   "source": [
    "## Chi-squared distribution"
   ]
  },
  {
   "cell_type": "markdown",
   "metadata": {},
   "source": [
    "Let $Z_1, Z_2 ... Z_n$ be independent standard normal random variables, then\n",
    "\n",
    "$X = Z_1^2 + Z_2^2 + ... + Z_n^2$\n",
    "\n",
    "is a chi-squared distribution with $n$ degrees of freedom ($X \\sim \\chi_n^2$).\n",
    "\n",
    "Obviously, if $X_1$ and $X_2$ are independent chi-square distributions with $n_1$ and $n_2$ dof, their sum is \n",
    "also chi-square but with $n_1+n_2$ degrees of freedom.\n",
    "\n",
    "* $E[X] = n$\n",
    "* $Var(X) = 2n$\n",
    "\n",
    "Same as gamma distribution with $\\alpha=n/2$ and $\\lambda = 1/2$\n",
    "\n",
    "Useful to define a quantity $\\chi_{\\alpha, n}^2$ such that:\n",
    "\n",
    "$P\\{X \\geq \\chi_{\\alpha, n}^2\\} = \\alpha$\n"
   ]
  },
  {
   "cell_type": "code",
   "execution_count": null,
   "metadata": {
    "collapsed": false
   },
   "outputs": [],
   "source": [
    "from scipy.stats import chi2\n",
    "\n",
    "def plot_chi2(n):\n",
    "    rv = chi2(n)\n",
    "    min, max = rv.ppf(0.0001), rv.ppf(0.9999)\n",
    "    x = np.linspace(min, max, 200)\n",
    "    #plt.xlim(0, 15)\n",
    "    plt.ylim(0, 0.25)\n",
    "    plt.plot(x, rv.pdf(x))\n",
    "\n",
    "interact(plot_chi2, n=(1, 20, 1))"
   ]
  },
  {
   "cell_type": "markdown",
   "metadata": {},
   "source": [
    "Nice example from textbook!\n",
    "-----------------------------\n",
    "\n",
    "When we attempt to locate a target in two-dimensional space, suppose that the coordinate errors are independent normal random variables with mean 0 and standard deviation 2. Find the probability that the distance between the point chosen and the target exceeds 3."
   ]
  },
  {
   "cell_type": "markdown",
   "metadata": {},
   "source": [
    "----"
   ]
  },
  {
   "cell_type": "markdown",
   "metadata": {},
   "source": [
    "## Student's t-distribution"
   ]
  },
  {
   "cell_type": "markdown",
   "metadata": {},
   "source": [
    "Consider independent $Z$ and $\\chi_n^2$ then,\n",
    "\n",
    "$T_n = \\frac{Z}{\\sqrt{(\\chi_n^2)/n}}$\n",
    "\n",
    "Note from the definition of the chi-square function that \n",
    "when $n$ is large $T_n$ has a similar distribution to $Z$.\n",
    "\n",
    "* $E[T_n] = 0$\n",
    "* $Var(T_n) = \\frac{n}{n-2}$"
   ]
  },
  {
   "cell_type": "code",
   "execution_count": 10,
   "metadata": {
    "collapsed": false
   },
   "outputs": [
    {
     "data": {
      "text/plain": [
       "<function __main__.plot_t>"
      ]
     },
     "execution_count": 10,
     "metadata": {},
     "output_type": "execute_result"
    },
    {
     "data": {
      "image/png": "[encoded data removed]",
      "text/plain": [
       "<matplotlib.figure.Figure at 0x1113e8ad0>"
      ]
     },
     "metadata": {},
     "output_type": "display_data"
    }
   ],
   "source": [
    "from scipy.stats import t, norm\n",
    "\n",
    "def plot_t(n):\n",
    "    rv = t(n)\n",
    "    x = np.linspace(-10, 10, 200)\n",
    "    plt.plot(x, norm.pdf(x), 'g--')\n",
    "    plt.plot(x, rv.pdf(x))\n",
    "\n",
    "interact(plot_t, n=IntSlider(min=1, max=20, step=1, value=1))"
   ]
  },
  {
   "cell_type": "markdown",
   "metadata": {},
   "source": [
    "-----"
   ]
  },
  {
   "cell_type": "markdown",
   "metadata": {},
   "source": [
    "## The Gamma distribution"
   ]
  },
  {
   "cell_type": "markdown",
   "metadata": {},
   "source": [
    "$f(x) = \\frac{\\lambda^\\alpha x^{\\alpha -1} e^{-\\lambda x}}{\\Gamma(\\alpha)}$\n",
    "\n",
    "with $\\lambda, \\alpha >0$ and $x\\geq 0$.\n",
    "\n",
    "One can show that:\n",
    "* $\\Gamma(1) = 1$\n",
    "* $\\Gamma(\\alpha) = (\\alpha -1)\\Gamma(\\alpha -1)$\n",
    "* $\\Gamma(n) = (n-1)!$\n",
    "* $\\chi_2$ with $n$ dof is same as $\\Gamma(n/2), \\lambda = 1/2$"
   ]
  },
  {
   "cell_type": "code",
   "execution_count": 8,
   "metadata": {
    "collapsed": false
   },
   "outputs": [
    {
     "data": {
      "text/plain": [
       "<function __main__.plot_gamma>"
      ]
     },
     "execution_count": 8,
     "metadata": {},
     "output_type": "execute_result"
    },
    {
     "data": {
      "image/png": "[encoded data removed]",
      "text/plain": [
       "<matplotlib.figure.Figure at 0x10f8bf190>"
      ]
     },
     "metadata": {},
     "output_type": "display_data"
    }
   ],
   "source": [
    "from scipy.stats import gamma\n",
    "\n",
    "\n",
    "def plot_gamma(alpha, lamda):\n",
    "    rv = gamma(a=alpha, scale=1.0/lamda)\n",
    "    min, max = rv.ppf(0.00001), rv.ppf(0.9999)\n",
    "    x = np.linspace(min, max)\n",
    "    #plt.xlim(-15, 15)\n",
    "    #plt.ylim(0, 0.25)\n",
    "    plt.plot(x, rv.pdf(x))\n",
    "\n",
    "interact(plot_gamma, alpha=FloatSliderWidget(min=0.0, max=50, step=0.1, value=1), lamda=(0.0, 10, 0.1))"
   ]
  },
  {
   "cell_type": "markdown",
   "metadata": {},
   "source": [
    "----"
   ]
  }
 ],
 "metadata": {
  "kernelspec": {
   "display_name": "Python 2",
   "language": "python",
   "name": "python2"
  },
  "language_info": {
   "codemirror_mode": {
    "name": "ipython",
    "version": 2
   },
   "file_extension": ".py",
   "mimetype": "text/x-python",
   "name": "python",
   "nbconvert_exporter": "python",
   "pygments_lexer": "ipython2",
   "version": "2.7.10"
  }
 },
 "nbformat": 4,
 "nbformat_minor": 0
}
