{
 "cells": [
  {
   "cell_type": "markdown",
   "metadata": {},
   "source": [
    "Very Easy exercises\n",
    "====================\n",
    "\n",
    "1. Print out the fibonacci sequence less than 30\n",
    "\n",
    "1. Write a function to return the above result as a list.\n",
    "\n",
    "1. Write a program that prints the numbers from 1 to 100. But for multiples of three print \"Fizz\" instead of the number and for the multiples of five print \"Buzz\". For numbers which are multiples of both three and five print \"FizzBuzz\". This is famously known as the FizzBuzz test. \n",
    "\n",
    "1. Write a program that prints the following pyramid on the screen.  \n",
    "\n",
    "   ```\n",
    "       1                                                             \n",
    "       2  2                                                          \n",
    "       3  3  3                                                       \n",
    "       4  4  4  4                                                    \n",
    "   ```                                                               \n",
    "                                                                     \n",
    "   The number of lines must be obtained from the user as input. When can your\n",
    "   code fail?\n"
   ]
  },
  {
   "cell_type": "code",
   "execution_count": null,
   "metadata": {},
   "outputs": [],
   "source": []
  },
  {
   "cell_type": "markdown",
   "metadata": {},
   "source": [
    "Easy exercises\n",
    "===============\n",
    "\n",
    "1. Write a function called `fib` which takes one argument `n` and returns the first `n` terms of the Fibonacci sequence. \n",
    "\n",
    "1. Write a function called `fact` which takes one argument `n` and returns a list of the first `n` factorials.\n",
    "\n",
    "1. Write a function that counts the number of vowels used in a given string.  Note that it should consider both upper and lower case characters the same.\n",
    "\n",
    "1. Write a function that takes a string as a single argument and returns a dictionary with the keys as the characters (all lowercase) in the string and the values as the number of occurences of the character in the text.  Note that the function should be written so it works even for a large body of text as I had discussed in class. \n",
    "\n",
    "1. Write a function that takes a string as a single argument and returns a dictionary with the keys as the words (all lowercase) in the string and the values as the number of occurences of the words in the text.  Note that the function should be written so it works even for a large body of text as in the previous problem.\n",
    "\n",
    "1. Write a function that displays all three digit numbers that are equal to the sum of the cubes of their digits. That is, print numbers `abc` that have the property `abc = a^3 + b^3 + c^3`. For example, `153 = 1^3 + 5^3 + 3^3`.  These are called Armstrong numbers.\n",
    "\n",
    "1. Given a string like, \"1, 3-7, 12, 15, 18-21\", produce the list `[1,3,4,5,6,7,12,15,18,19,20,21]`.\n",
    "\n",
    "1. The Collatz sequence is given by the following algorithm:\n",
    "   1. Start with an arbitrary (positive) integer.                \n",
    "   1. If the number is even, divide by 2; if the number is odd multiply by 3\n",
    "      and add 1.\n",
    "   1. Repeat the procedure with the new number.                  \n",
    "   1. There is a cycle of 4, 2, 1 at which the procedure loops.  \n",
    "  \n",
    "  Write a function that accepts the starting value and prints out the Collatz\n",
    "  sequence.\n"
   ]
  },
  {
   "cell_type": "code",
   "execution_count": null,
   "metadata": {},
   "outputs": [],
   "source": []
  },
  {
   "cell_type": "code",
   "execution_count": null,
   "metadata": {},
   "outputs": [],
   "source": []
  },
  {
   "cell_type": "code",
   "execution_count": null,
   "metadata": {},
   "outputs": [],
   "source": []
  },
  {
   "cell_type": "markdown",
   "metadata": {},
   "source": [
    "NumPy related exercises\n",
    "=======================\n",
    "\n",
    "All arrays in the following refer to NumPy arrays.\n",
    "\n",
    "1. Create an array `x` of 100 elements uniformly spaced from $-2\\pi$ to $2 \\pi$.\n",
    "1. Create an array of 100 zeros with an integer type.\n",
    "1. Create an array of 100 zeros with a floating point type.\n",
    "1. Create a 3x3 matrix with each element $a_{ij}= i+j + 2$, where $i,j$ start from 0.\n",
    "1. Given x from the first problem, find the sin of all the elements. Find the difference between each element and its previous element.\n",
    "1. Find the mean, std-dev and median of sin(x).\n",
    "\n",
    "1. Given the `x` from the first problem, make a copy of it, say using a variable $y$.  Then use the special indexing support of numpy arrays, set all the elements of $y$ where $-1 \\leq x \\leq 1$ to 1.0.  Set all the elements where $|x| > 1$ to zero.  Plot $y$ vs $x$."
   ]
  },
  {
   "cell_type": "code",
   "execution_count": null,
   "metadata": {},
   "outputs": [],
   "source": []
  },
  {
   "cell_type": "code",
   "execution_count": null,
   "metadata": {},
   "outputs": [],
   "source": []
  }
 ],
 "metadata": {
  "kernelspec": {
   "display_name": "Python 3",
   "language": "python",
   "name": "python3"
  },
  "language_info": {
   "codemirror_mode": {
    "name": "ipython",
    "version": 3
   },
   "file_extension": ".py",
   "mimetype": "text/x-python",
   "name": "python",
   "nbconvert_exporter": "python",
   "pygments_lexer": "ipython3",
   "version": "3.5.2"
  }
 },
 "nbformat": 4,
 "nbformat_minor": 1
}
